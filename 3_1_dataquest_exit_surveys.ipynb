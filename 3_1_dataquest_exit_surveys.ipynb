{
 "cells": [
  {
   "cell_type": "markdown",
   "metadata": {
    "collapsed": true,
    "id": "WsBVo0-m3Df8",
    "jupyter": {
     "outputs_hidden": true
    }
   },
   "source": [
    "# Clean and Analyze Employee Exit Surveys"
   ]
  },
  {
   "cell_type": "markdown",
   "metadata": {
    "id": "1hydIRao9Px_"
   },
   "source": [
    "## Introduction"
   ]
  },
  {
   "cell_type": "markdown",
   "metadata": {
    "id": "SlLuaQJS3Df-"
   },
   "source": [
    "dataset\n",
    "- exit surveys of employees from Queensland, Australia\n",
    "    - Department of Education, Training and Employment (DETE)\n",
    "    - Technical and Further Education (TAFE)\n",
    "    - encoded to UTF-8\n",
    "\n",
    "project goal\n",
    "- Are employes who only worked for the institutes for a short period of time resigning due to some kind of dissatisfaction?\n",
    "- What about the employees who have been there longer?\n",
    "- Are younger employees resigning due to some kind of dissatisfaction?\n",
    "- What about older employees?\n",
    "\n",
    "- combine results for both surveys to answer the quetions\n",
    "- use same survey template, but one customized some of the answers\n",
    "- no data dictionary available\n",
    "\n",
    "skills:\n",
    "- apply(), map()\n",
    "- fillna(), dropna(), drop()\n",
    "- melt()\n",
    "- concat(), merge()"
   ]
  },
  {
   "cell_type": "code",
   "execution_count": 5,
   "metadata": {
    "id": "9w9gOCoB3Df_"
   },
   "outputs": [],
   "source": [
    "import numpy as np\n",
    "import pandas as pd"
   ]
  },
  {
   "cell_type": "markdown",
   "metadata": {
    "id": "Zci9TWGf3Df-"
   },
   "source": [
    "## 1. The DETE and TAFE Survey Datasets"
   ]
  },
  {
   "cell_type": "markdown",
   "metadata": {
    "id": "Rm7pApws3Df-"
   },
   "source": [
    "`dete_survey.csv`\n",
    "* `ID` participant ID\n",
    "* `SeparationType` reason why employment ended\n",
    "* `Cease Date` year or month employment ended\n",
    "* `DETE Start Date` year employemnt started"
   ]
  },
  {
   "cell_type": "markdown",
   "metadata": {
    "id": "EfC0fc0W3Df-"
   },
   "source": [
    "`tafe_survey.csv`\n",
    "* `Record ID` participant ID\n",
    "* `Reason for ceasing employment`\n",
    "* `LengthofServiceOverall. Overall Length of Service at Institute (in years)` employment in years"
   ]
  },
  {
   "cell_type": "code",
   "execution_count": 6,
   "metadata": {
    "id": "npZGWQRS3Df_"
   },
   "outputs": [],
   "source": [
    "# read in and preview datasets\n",
    "dete_raw = pd.read_csv('/Users/slp22/code/dataquest projects/dete_survey.csv')\n",
    "tafe_raw = pd.read_csv('/Users/slp22/code/dataquest projects/tafe_survey.csv')"
   ]
  },
  {
   "cell_type": "markdown",
   "metadata": {
    "id": "avt0gp6h3DgA"
   },
   "source": [
    "### DETE"
   ]
  },
  {
   "cell_type": "markdown",
   "metadata": {},
   "source": [
    "dete_resignation['institute_service'] = dete_resignation['cease_date'] - dete_resignation['dete_start_date']\n"
   ]
  },
  {
   "cell_type": "code",
   "execution_count": 7,
   "metadata": {
    "colab": {
     "base_uri": "https://localhost:8080/",
     "height": 498
    },
    "id": "rRuGTvid3DgA",
    "outputId": "9b9a4717-5c85-4900-e201-1b8b50e92198"
   },
   "outputs": [
    {
     "name": "stdout",
     "output_type": "stream",
     "text": [
      "<class 'pandas.core.frame.DataFrame'>\n",
      "RangeIndex: 822 entries, 0 to 821\n",
      "Data columns (total 56 columns):\n",
      " #   Column                               Non-Null Count  Dtype \n",
      "---  ------                               --------------  ----- \n",
      " 0   ID                                   822 non-null    int64 \n",
      " 1   SeparationType                       822 non-null    object\n",
      " 2   Cease Date                           822 non-null    object\n",
      " 3   DETE Start Date                      822 non-null    object\n",
      " 4   Role Start Date                      822 non-null    object\n",
      " 5   Position                             817 non-null    object\n",
      " 6   Classification                       455 non-null    object\n",
      " 7   Region                               822 non-null    object\n",
      " 8   Business Unit                        126 non-null    object\n",
      " 9   Employment Status                    817 non-null    object\n",
      " 10  Career move to public sector         822 non-null    bool  \n",
      " 11  Career move to private sector        822 non-null    bool  \n",
      " 12  Interpersonal conflicts              822 non-null    bool  \n",
      " 13  Job dissatisfaction                  822 non-null    bool  \n",
      " 14  Dissatisfaction with the department  822 non-null    bool  \n",
      " 15  Physical work environment            822 non-null    bool  \n",
      " 16  Lack of recognition                  822 non-null    bool  \n",
      " 17  Lack of job security                 822 non-null    bool  \n",
      " 18  Work location                        822 non-null    bool  \n",
      " 19  Employment conditions                822 non-null    bool  \n",
      " 20  Maternity/family                     822 non-null    bool  \n",
      " 21  Relocation                           822 non-null    bool  \n",
      " 22  Study/Travel                         822 non-null    bool  \n",
      " 23  Ill Health                           822 non-null    bool  \n",
      " 24  Traumatic incident                   822 non-null    bool  \n",
      " 25  Work life balance                    822 non-null    bool  \n",
      " 26  Workload                             822 non-null    bool  \n",
      " 27  None of the above                    822 non-null    bool  \n",
      " 28  Professional Development             808 non-null    object\n",
      " 29  Opportunities for promotion          735 non-null    object\n",
      " 30  Staff morale                         816 non-null    object\n",
      " 31  Workplace issue                      788 non-null    object\n",
      " 32  Physical environment                 817 non-null    object\n",
      " 33  Worklife balance                     815 non-null    object\n",
      " 34  Stress and pressure support          810 non-null    object\n",
      " 35  Performance of supervisor            813 non-null    object\n",
      " 36  Peer support                         812 non-null    object\n",
      " 37  Initiative                           813 non-null    object\n",
      " 38  Skills                               811 non-null    object\n",
      " 39  Coach                                767 non-null    object\n",
      " 40  Career Aspirations                   746 non-null    object\n",
      " 41  Feedback                             792 non-null    object\n",
      " 42  Further PD                           768 non-null    object\n",
      " 43  Communication                        814 non-null    object\n",
      " 44  My say                               812 non-null    object\n",
      " 45  Information                          816 non-null    object\n",
      " 46  Kept informed                        813 non-null    object\n",
      " 47  Wellness programs                    766 non-null    object\n",
      " 48  Health & Safety                      793 non-null    object\n",
      " 49  Gender                               798 non-null    object\n",
      " 50  Age                                  811 non-null    object\n",
      " 51  Aboriginal                           16 non-null     object\n",
      " 52  Torres Strait                        3 non-null      object\n",
      " 53  South Sea                            7 non-null      object\n",
      " 54  Disability                           23 non-null     object\n",
      " 55  NESB                                 32 non-null     object\n",
      "dtypes: bool(18), int64(1), object(37)\n",
      "memory usage: 258.6+ KB\n"
     ]
    }
   ],
   "source": [
    "dete_raw.info()"
   ]
  },
  {
   "cell_type": "code",
   "execution_count": 8,
   "metadata": {
    "id": "eos5-91i3DgA"
   },
   "outputs": [],
   "source": [
    "# dete_raw.info()"
   ]
  },
  {
   "cell_type": "code",
   "execution_count": 9,
   "metadata": {
    "id": "DA_KLg2u3DgA"
   },
   "outputs": [],
   "source": [
    "# dete_raw.columns"
   ]
  },
  {
   "cell_type": "code",
   "execution_count": 10,
   "metadata": {
    "id": "Kxm5n7Dd3DgB"
   },
   "outputs": [],
   "source": [
    "# dete_raw.isnull()"
   ]
  },
  {
   "cell_type": "code",
   "execution_count": 11,
   "metadata": {
    "colab": {
     "base_uri": "https://localhost:8080/",
     "height": 397
    },
    "id": "7fM0hC0m3DgB",
    "outputId": "4e00bb73-1e9d-4bcf-d118-67bfecf01a48"
   },
   "outputs": [],
   "source": [
    "# dete_raw['SeparationType'].value_counts()"
   ]
  },
  {
   "cell_type": "code",
   "execution_count": 12,
   "metadata": {
    "colab": {
     "base_uri": "https://localhost:8080/",
     "height": 586
    },
    "id": "wYyX3lBV3DgB",
    "outputId": "354a6627-2678-4777-d492-be9c28f1b275"
   },
   "outputs": [],
   "source": [
    "# dete_raw['Position'].value_counts()"
   ]
  },
  {
   "cell_type": "code",
   "execution_count": 13,
   "metadata": {
    "id": "1iwJxMSA3DgB"
   },
   "outputs": [],
   "source": [
    "# dete_raw['Classification'].value_counts()"
   ]
  },
  {
   "cell_type": "markdown",
   "metadata": {
    "id": "CgJ_Jy5z3DgB"
   },
   "source": [
    "**`dete_raw`**\n",
    "- RangeIndex: 822 entries, 0 to 821\n",
    "- Data columns (total 56 columns)\n",
    "- Dytpe: ID=int, others=object, bool\n",
    "- Non-Null: Business Unit, Aboriginal, Torres Strait, South Sea, Disability, NESB"
   ]
  },
  {
   "cell_type": "markdown",
   "metadata": {
    "id": "0IUprXSE3DgB"
   },
   "source": [
    "### TAFE"
   ]
  },
  {
   "cell_type": "code",
   "execution_count": 14,
   "metadata": {
    "colab": {
     "base_uri": "https://localhost:8080/",
     "height": 655
    },
    "id": "Nz9wTpn23DgB",
    "outputId": "f0ca3bdc-f89e-44c4-9521-61e8a80611a1"
   },
   "outputs": [
    {
     "data": {
      "text/html": [
       "<div>\n",
       "<style scoped>\n",
       "    .dataframe tbody tr th:only-of-type {\n",
       "        vertical-align: middle;\n",
       "    }\n",
       "\n",
       "    .dataframe tbody tr th {\n",
       "        vertical-align: top;\n",
       "    }\n",
       "\n",
       "    .dataframe thead th {\n",
       "        text-align: right;\n",
       "    }\n",
       "</style>\n",
       "<table border=\"1\" class=\"dataframe\">\n",
       "  <thead>\n",
       "    <tr style=\"text-align: right;\">\n",
       "      <th></th>\n",
       "      <th>Record ID</th>\n",
       "      <th>Institute</th>\n",
       "      <th>WorkArea</th>\n",
       "      <th>CESSATION YEAR</th>\n",
       "      <th>Reason for ceasing employment</th>\n",
       "      <th>Contributing Factors. Career Move - Public Sector</th>\n",
       "      <th>Contributing Factors. Career Move - Private Sector</th>\n",
       "      <th>Contributing Factors. Career Move - Self-employment</th>\n",
       "      <th>Contributing Factors. Ill Health</th>\n",
       "      <th>Contributing Factors. Maternity/Family</th>\n",
       "      <th>...</th>\n",
       "      <th>Workplace. Topic:Does your workplace promote a work culture free from all forms of unlawful discrimination?</th>\n",
       "      <th>Workplace. Topic:Does your workplace promote and practice the principles of employment equity?</th>\n",
       "      <th>Workplace. Topic:Does your workplace value the diversity of its employees?</th>\n",
       "      <th>Workplace. Topic:Would you recommend the Institute as an employer to others?</th>\n",
       "      <th>Gender. What is your Gender?</th>\n",
       "      <th>CurrentAge. Current Age</th>\n",
       "      <th>Employment Type. Employment Type</th>\n",
       "      <th>Classification. Classification</th>\n",
       "      <th>LengthofServiceOverall. Overall Length of Service at Institute (in years)</th>\n",
       "      <th>LengthofServiceCurrent. Length of Service at current workplace (in years)</th>\n",
       "    </tr>\n",
       "  </thead>\n",
       "  <tbody>\n",
       "    <tr>\n",
       "      <th>0</th>\n",
       "      <td>6.341330e+17</td>\n",
       "      <td>Southern Queensland Institute of TAFE</td>\n",
       "      <td>Non-Delivery (corporate)</td>\n",
       "      <td>2010.0</td>\n",
       "      <td>Contract Expired</td>\n",
       "      <td>NaN</td>\n",
       "      <td>NaN</td>\n",
       "      <td>NaN</td>\n",
       "      <td>NaN</td>\n",
       "      <td>NaN</td>\n",
       "      <td>...</td>\n",
       "      <td>Yes</td>\n",
       "      <td>Yes</td>\n",
       "      <td>Yes</td>\n",
       "      <td>Yes</td>\n",
       "      <td>Female</td>\n",
       "      <td>26  30</td>\n",
       "      <td>Temporary Full-time</td>\n",
       "      <td>Administration (AO)</td>\n",
       "      <td>1-2</td>\n",
       "      <td>1-2</td>\n",
       "    </tr>\n",
       "    <tr>\n",
       "      <th>1</th>\n",
       "      <td>6.341337e+17</td>\n",
       "      <td>Mount Isa Institute of TAFE</td>\n",
       "      <td>Non-Delivery (corporate)</td>\n",
       "      <td>2010.0</td>\n",
       "      <td>Retirement</td>\n",
       "      <td>-</td>\n",
       "      <td>-</td>\n",
       "      <td>-</td>\n",
       "      <td>-</td>\n",
       "      <td>-</td>\n",
       "      <td>...</td>\n",
       "      <td>Yes</td>\n",
       "      <td>Yes</td>\n",
       "      <td>Yes</td>\n",
       "      <td>Yes</td>\n",
       "      <td>NaN</td>\n",
       "      <td>NaN</td>\n",
       "      <td>NaN</td>\n",
       "      <td>NaN</td>\n",
       "      <td>NaN</td>\n",
       "      <td>NaN</td>\n",
       "    </tr>\n",
       "    <tr>\n",
       "      <th>2</th>\n",
       "      <td>6.341388e+17</td>\n",
       "      <td>Mount Isa Institute of TAFE</td>\n",
       "      <td>Delivery (teaching)</td>\n",
       "      <td>2010.0</td>\n",
       "      <td>Retirement</td>\n",
       "      <td>-</td>\n",
       "      <td>-</td>\n",
       "      <td>-</td>\n",
       "      <td>-</td>\n",
       "      <td>-</td>\n",
       "      <td>...</td>\n",
       "      <td>Yes</td>\n",
       "      <td>Yes</td>\n",
       "      <td>Yes</td>\n",
       "      <td>Yes</td>\n",
       "      <td>NaN</td>\n",
       "      <td>NaN</td>\n",
       "      <td>NaN</td>\n",
       "      <td>NaN</td>\n",
       "      <td>NaN</td>\n",
       "      <td>NaN</td>\n",
       "    </tr>\n",
       "    <tr>\n",
       "      <th>3</th>\n",
       "      <td>6.341399e+17</td>\n",
       "      <td>Mount Isa Institute of TAFE</td>\n",
       "      <td>Non-Delivery (corporate)</td>\n",
       "      <td>2010.0</td>\n",
       "      <td>Resignation</td>\n",
       "      <td>-</td>\n",
       "      <td>-</td>\n",
       "      <td>-</td>\n",
       "      <td>-</td>\n",
       "      <td>-</td>\n",
       "      <td>...</td>\n",
       "      <td>Yes</td>\n",
       "      <td>Yes</td>\n",
       "      <td>Yes</td>\n",
       "      <td>Yes</td>\n",
       "      <td>NaN</td>\n",
       "      <td>NaN</td>\n",
       "      <td>NaN</td>\n",
       "      <td>NaN</td>\n",
       "      <td>NaN</td>\n",
       "      <td>NaN</td>\n",
       "    </tr>\n",
       "    <tr>\n",
       "      <th>4</th>\n",
       "      <td>6.341466e+17</td>\n",
       "      <td>Southern Queensland Institute of TAFE</td>\n",
       "      <td>Delivery (teaching)</td>\n",
       "      <td>2010.0</td>\n",
       "      <td>Resignation</td>\n",
       "      <td>-</td>\n",
       "      <td>Career Move - Private Sector</td>\n",
       "      <td>-</td>\n",
       "      <td>-</td>\n",
       "      <td>-</td>\n",
       "      <td>...</td>\n",
       "      <td>Yes</td>\n",
       "      <td>Yes</td>\n",
       "      <td>Yes</td>\n",
       "      <td>Yes</td>\n",
       "      <td>Male</td>\n",
       "      <td>41  45</td>\n",
       "      <td>Permanent Full-time</td>\n",
       "      <td>Teacher (including LVT)</td>\n",
       "      <td>3-4</td>\n",
       "      <td>3-4</td>\n",
       "    </tr>\n",
       "  </tbody>\n",
       "</table>\n",
       "<p>5 rows × 72 columns</p>\n",
       "</div>"
      ],
      "text/plain": [
       "      Record ID                              Institute  \\\n",
       "0  6.341330e+17  Southern Queensland Institute of TAFE   \n",
       "1  6.341337e+17            Mount Isa Institute of TAFE   \n",
       "2  6.341388e+17            Mount Isa Institute of TAFE   \n",
       "3  6.341399e+17            Mount Isa Institute of TAFE   \n",
       "4  6.341466e+17  Southern Queensland Institute of TAFE   \n",
       "\n",
       "                   WorkArea  CESSATION YEAR Reason for ceasing employment  \\\n",
       "0  Non-Delivery (corporate)          2010.0              Contract Expired   \n",
       "1  Non-Delivery (corporate)          2010.0                    Retirement   \n",
       "2       Delivery (teaching)          2010.0                    Retirement   \n",
       "3  Non-Delivery (corporate)          2010.0                   Resignation   \n",
       "4       Delivery (teaching)          2010.0                   Resignation   \n",
       "\n",
       "  Contributing Factors. Career Move - Public Sector   \\\n",
       "0                                                NaN   \n",
       "1                                                  -   \n",
       "2                                                  -   \n",
       "3                                                  -   \n",
       "4                                                  -   \n",
       "\n",
       "  Contributing Factors. Career Move - Private Sector   \\\n",
       "0                                                NaN    \n",
       "1                                                  -    \n",
       "2                                                  -    \n",
       "3                                                  -    \n",
       "4                       Career Move - Private Sector    \n",
       "\n",
       "  Contributing Factors. Career Move - Self-employment  \\\n",
       "0                                                NaN    \n",
       "1                                                  -    \n",
       "2                                                  -    \n",
       "3                                                  -    \n",
       "4                                                  -    \n",
       "\n",
       "  Contributing Factors. Ill Health Contributing Factors. Maternity/Family  \\\n",
       "0                              NaN                                    NaN   \n",
       "1                                -                                      -   \n",
       "2                                -                                      -   \n",
       "3                                -                                      -   \n",
       "4                                -                                      -   \n",
       "\n",
       "   ...  \\\n",
       "0  ...   \n",
       "1  ...   \n",
       "2  ...   \n",
       "3  ...   \n",
       "4  ...   \n",
       "\n",
       "  Workplace. Topic:Does your workplace promote a work culture free from all forms of unlawful discrimination?  \\\n",
       "0                                                Yes                                                            \n",
       "1                                                Yes                                                            \n",
       "2                                                Yes                                                            \n",
       "3                                                Yes                                                            \n",
       "4                                                Yes                                                            \n",
       "\n",
       "  Workplace. Topic:Does your workplace promote and practice the principles of employment equity?  \\\n",
       "0                                                Yes                                               \n",
       "1                                                Yes                                               \n",
       "2                                                Yes                                               \n",
       "3                                                Yes                                               \n",
       "4                                                Yes                                               \n",
       "\n",
       "  Workplace. Topic:Does your workplace value the diversity of its employees?  \\\n",
       "0                                                Yes                           \n",
       "1                                                Yes                           \n",
       "2                                                Yes                           \n",
       "3                                                Yes                           \n",
       "4                                                Yes                           \n",
       "\n",
       "  Workplace. Topic:Would you recommend the Institute as an employer to others?  \\\n",
       "0                                                Yes                             \n",
       "1                                                Yes                             \n",
       "2                                                Yes                             \n",
       "3                                                Yes                             \n",
       "4                                                Yes                             \n",
       "\n",
       "  Gender. What is your Gender? CurrentAge. Current Age  \\\n",
       "0                       Female                  26  30   \n",
       "1                          NaN                     NaN   \n",
       "2                          NaN                     NaN   \n",
       "3                          NaN                     NaN   \n",
       "4                         Male                  41  45   \n",
       "\n",
       "  Employment Type. Employment Type Classification. Classification  \\\n",
       "0              Temporary Full-time            Administration (AO)   \n",
       "1                              NaN                            NaN   \n",
       "2                              NaN                            NaN   \n",
       "3                              NaN                            NaN   \n",
       "4              Permanent Full-time        Teacher (including LVT)   \n",
       "\n",
       "  LengthofServiceOverall. Overall Length of Service at Institute (in years)  \\\n",
       "0                                                1-2                          \n",
       "1                                                NaN                          \n",
       "2                                                NaN                          \n",
       "3                                                NaN                          \n",
       "4                                                3-4                          \n",
       "\n",
       "  LengthofServiceCurrent. Length of Service at current workplace (in years)  \n",
       "0                                                1-2                         \n",
       "1                                                NaN                         \n",
       "2                                                NaN                         \n",
       "3                                                NaN                         \n",
       "4                                                3-4                         \n",
       "\n",
       "[5 rows x 72 columns]"
      ]
     },
     "execution_count": 14,
     "metadata": {},
     "output_type": "execute_result"
    }
   ],
   "source": [
    "tafe_raw.head()"
   ]
  },
  {
   "cell_type": "code",
   "execution_count": 15,
   "metadata": {
    "id": "KjlPwsH33DgB"
   },
   "outputs": [],
   "source": [
    "# tafe_raw.info()"
   ]
  },
  {
   "cell_type": "code",
   "execution_count": 16,
   "metadata": {
    "id": "fI9kA5do3DgB"
   },
   "outputs": [],
   "source": [
    "# tafe_raw.columns"
   ]
  },
  {
   "cell_type": "code",
   "execution_count": 17,
   "metadata": {
    "id": "nib7REww3DgB"
   },
   "outputs": [],
   "source": [
    "# tafe_raw.isnull()"
   ]
  },
  {
   "cell_type": "code",
   "execution_count": 18,
   "metadata": {
    "colab": {
     "base_uri": "https://localhost:8080/",
     "height": 303
    },
    "id": "zXBufqBN3DgB",
    "outputId": "dbfb05ee-66a6-405d-9e75-f4bf8a1e4deb"
   },
   "outputs": [],
   "source": [
    "# tafe_raw['Reason for ceasing employment'].value_counts()"
   ]
  },
  {
   "cell_type": "code",
   "execution_count": 19,
   "metadata": {
    "colab": {
     "base_uri": "https://localhost:8080/",
     "height": 272
    },
    "id": "oGUgVwCK3DgB",
    "outputId": "3e4b0993-e9ac-4a72-e5bb-30a6f9cc8607"
   },
   "outputs": [],
   "source": [
    "# tafe_raw['Employment Type. Employment Type'].value_counts()"
   ]
  },
  {
   "cell_type": "code",
   "execution_count": 20,
   "metadata": {
    "id": "DZ-H08HH3DgB"
   },
   "outputs": [],
   "source": [
    "# tafe_raw['Classification. Classification'].value_counts()"
   ]
  },
  {
   "cell_type": "markdown",
   "metadata": {
    "id": "YOC88X7W3DgB"
   },
   "source": [
    "**`tafe_raw`**\n",
    "- Record ID in scientific notation\n",
    "- Columns names are long, descriptive, repetitive\n",
    "- RangeIndex: 702 entries, 0 to 701\n",
    "- Data columns (total 72 columns)\n",
    "- Dtype: ID=int, others=object, cessation year=float\n",
    "- Non-Null: range 400-500 of 700 rows"
   ]
  },
  {
   "cell_type": "markdown",
   "metadata": {
    "id": "12e2VF9L3aYR"
   },
   "source": [
    "## 2. Identify Missing Values and Drop Unnecessary Columns"
   ]
  },
  {
   "cell_type": "code",
   "execution_count": 21,
   "metadata": {
    "id": "38yRgIxc3DgC"
   },
   "outputs": [],
   "source": [
    "# dete_raw = pd.read_csv('/dete_survey.csv', na_values=\"Not Stated\")\n",
    "dete_raw = pd.read_csv('/Users/slp22/code/dataquest projects/dete_survey.csv')"
   ]
  },
  {
   "cell_type": "code",
   "execution_count": 22,
   "metadata": {
    "colab": {
     "base_uri": "https://localhost:8080/",
     "height": 516
    },
    "id": "6Az0HKd53DgC",
    "outputId": "f600205d-650c-468a-d0e7-2308ff576c31"
   },
   "outputs": [],
   "source": [
    "#dete_raw drop columns [28:49] axis=1\n",
    "dete = dete_raw.drop(dete_raw.columns[28:49],axis=1)\n",
    "# dete.head()"
   ]
  },
  {
   "cell_type": "code",
   "execution_count": 23,
   "metadata": {
    "colab": {
     "base_uri": "https://localhost:8080/",
     "height": 533
    },
    "id": "pwwjmUQw3DgC",
    "outputId": "e8ce905a-0038-4222-d7fb-277b697141f8"
   },
   "outputs": [],
   "source": [
    "#tafe drop columns [17:66] axis=1\n",
    "tafe = tafe_raw.drop(tafe_raw.columns[17:66], axis=1)\n",
    "# tafe.head()"
   ]
  },
  {
   "cell_type": "markdown",
   "metadata": {
    "id": "Yu0siXjL74DG"
   },
   "source": [
    "#### Dropped columns from `tafe` [28:39] and `dete` [17:66] that are not relevant to this analysis. And will make the data easier to work with.  "
   ]
  },
  {
   "cell_type": "markdown",
   "metadata": {
    "id": "s7gLVax88gup"
   },
   "source": [
    "## 3. Clean Column Names"
   ]
  },
  {
   "cell_type": "code",
   "execution_count": 24,
   "metadata": {
    "id": "TgkkYM8D8ieP"
   },
   "outputs": [],
   "source": [
    "dete_col = dete.columns\n",
    "# dete_col"
   ]
  },
  {
   "cell_type": "code",
   "execution_count": 25,
   "metadata": {
    "id": "2zvIk6r2DC6W"
   },
   "outputs": [],
   "source": [
    "tafe_col = tafe.columns\n",
    "# tafe_col"
   ]
  },
  {
   "cell_type": "markdown",
   "metadata": {
    "id": "PW2knrscUgLp"
   },
   "source": [
    "### 🧹 functions to clean up text"
   ]
  },
  {
   "cell_type": "code",
   "execution_count": 26,
   "metadata": {
    "id": "lTO32yfuAT3z"
   },
   "outputs": [],
   "source": [
    "# function to make each column name lowercase\n",
    "def lower(cols):\n",
    "    lower_cols = []\n",
    "    for c in cols:\n",
    "        lower_cols.append(c.lower())\n",
    "    return lower_cols"
   ]
  },
  {
   "cell_type": "code",
   "execution_count": 27,
   "metadata": {
    "id": "Y0mrw7fl__4v"
   },
   "outputs": [],
   "source": [
    "# function to remove trailing whitespace from end of strings\n",
    "def spaceless(cols):\n",
    "    spaceless_cols = []\n",
    "    for c in cols:\n",
    "        spaceless_cols.append(c.rstrip())\n",
    "    return spaceless_cols"
   ]
  },
  {
   "cell_type": "code",
   "execution_count": 28,
   "metadata": {
    "id": "GKtSn-5VETYc"
   },
   "outputs": [],
   "source": [
    "# function to replace space with underscore\n",
    "def replace_punctuation(cols):\n",
    "    underscore_cols = []\n",
    "    for c in cols:\n",
    "        new_c = c.replace(\" \", \"_\").replace(\".\", \"\").replace(\"-\", \"\")\n",
    "        underscore_cols.append(new_c)\n",
    "    return underscore_cols"
   ]
  },
  {
   "cell_type": "markdown",
   "metadata": {},
   "source": [
    "### functions not used"
   ]
  },
  {
   "cell_type": "markdown",
   "metadata": {
    "id": "_55PUa4MSAm4"
   },
   "source": [
    "#### x apply clean up functions #1 (nested functions)"
   ]
  },
  {
   "cell_type": "code",
   "execution_count": 29,
   "metadata": {
    "id": "HtNL05-xFbQK"
   },
   "outputs": [],
   "source": [
    "# from types import new_class\n",
    "def clean_up(col):\n",
    "    new_cols = []\n",
    "\n",
    "# function to make each column name lowercase\n",
    "\n",
    "#   # function to remove trailing whitespace from end of strings\n",
    "#     def spaceless(new_cols):\n",
    "#         for c in new_cols:\n",
    "#             new_cols.append(c.rstrip())\n",
    "#         return new_cols\n",
    "\n",
    "#   # function to replace space with underscore\n",
    "#     def replace_punctuation(new_cols):\n",
    "#         for c in new_cols:\n",
    "#             new_c = c.replace(\" \", \"_\").replace(\".\", \"\").replace(\"-\", \"\")\n",
    "#             new_cols.append(new_c)\n",
    "#         return new_cols\n",
    "    # return lower(new_cols\n"
   ]
  },
  {
   "cell_type": "code",
   "execution_count": 30,
   "metadata": {},
   "outputs": [],
   "source": [
    "# # higer order function lesson\n",
    "\n",
    "# def generate_age_checker(min_age):\n",
    "#     def check_age(age):\n",
    "#         return age > min_age\n",
    "#     return check_age\n",
    "\n",
    "# check_min_18 = generate_age_checker(18)\n",
    "# check_min_21 = generate_age_checker(21)\n",
    "\n",
    "# print(check_min_18(20))\n",
    "# print(check_min_21(20))\n",
    "    "
   ]
  },
  {
   "cell_type": "markdown",
   "metadata": {
    "id": "aSH0lsCmT4h9"
   },
   "source": [
    "#### apply clean up functions #2 (sequential)"
   ]
  },
  {
   "cell_type": "code",
   "execution_count": 31,
   "metadata": {
    "colab": {
     "base_uri": "https://localhost:8080/"
    },
    "id": "7Mqngaf-SuaT",
    "outputId": "e6ae8554-a095-432a-8822-95154d349b30"
   },
   "outputs": [],
   "source": [
    "# # appy lower, spaceless, and replace_punctuation functions for tafe_col\n",
    "# lower_tafe = lower(tafe_col)\n",
    "# spaceless_tafe = spaceless(lower_tafe)\n",
    "# clean_tafe_cols = replace_punctuation(spaceless_tafe)"
   ]
  },
  {
   "cell_type": "code",
   "execution_count": 32,
   "metadata": {
    "colab": {
     "base_uri": "https://localhost:8080/"
    },
    "id": "vqCq4HP1SIg5",
    "outputId": "d8b577f4-8ddc-4ee7-e0c9-7bd1d006101a"
   },
   "outputs": [],
   "source": [
    "# # appy lower, spaceless, and replace_punctuation functions for dete_col\n",
    "# lower_dete = lower(dete_col)\n",
    "# spaceless_dete = spaceless(lower_dete)\n",
    "# clean_dete_cols = replace_punctuation(spaceless_dete)"
   ]
  },
  {
   "cell_type": "markdown",
   "metadata": {},
   "source": [
    "#### apply clean up functions #3 (nest func)"
   ]
  },
  {
   "cell_type": "code",
   "execution_count": 33,
   "metadata": {},
   "outputs": [],
   "source": [
    "# replace_punctuation(spaceless(lower(dete_col)))"
   ]
  },
  {
   "cell_type": "code",
   "execution_count": 34,
   "metadata": {},
   "outputs": [],
   "source": [
    "# replace_punctuation(spaceless(lower(tafe_col)))"
   ]
  },
  {
   "cell_type": "markdown",
   "metadata": {},
   "source": [
    "### ✅ apply clean up functions #4 (call func)"
   ]
  },
  {
   "cell_type": "code",
   "execution_count": 35,
   "metadata": {},
   "outputs": [],
   "source": [
    "# best practice\n",
    "def clean_up(col):\n",
    "    lowercased = lower(col)\n",
    "    without_spaces = spaceless(lowercased)\n",
    "    without_punctuation = replace_punctuation(without_spaces)\n",
    "    return without_punctuation"
   ]
  },
  {
   "cell_type": "code",
   "execution_count": 36,
   "metadata": {},
   "outputs": [
    {
     "data": {
      "text/plain": [
       "Index(['id', 'separationtype', 'cease_date', 'dete_start_date',\n",
       "       'role_start_date', 'position', 'classification', 'region',\n",
       "       'business_unit', 'employment_status', 'career_move_to_public_sector',\n",
       "       'career_move_to_private_sector', 'interpersonal_conflicts',\n",
       "       'job_dissatisfaction', 'dissatisfaction_with_the_department',\n",
       "       'physical_work_environment', 'lack_of_recognition',\n",
       "       'lack_of_job_security', 'work_location', 'employment_conditions',\n",
       "       'maternity/family', 'relocation', 'study/travel', 'ill_health',\n",
       "       'traumatic_incident', 'work_life_balance', 'workload',\n",
       "       'none_of_the_above', 'gender', 'age', 'aboriginal', 'torres_strait',\n",
       "       'south_sea', 'disability', 'nesb'],\n",
       "      dtype='object')"
      ]
     },
     "execution_count": 36,
     "metadata": {},
     "output_type": "execute_result"
    }
   ],
   "source": [
    "new_dete_col = clean_up(dete_col)\n",
    "dete.columns = new_dete_col\n",
    "dete.columns"
   ]
  },
  {
   "cell_type": "code",
   "execution_count": 37,
   "metadata": {
    "scrolled": true
   },
   "outputs": [],
   "source": [
    "# tafe.columns"
   ]
  },
  {
   "cell_type": "code",
   "execution_count": 38,
   "metadata": {},
   "outputs": [],
   "source": [
    "tafe.rename({'Record ID': 'id',\n",
    "             'CESSATION YEAR': 'cease_date',\n",
    "             'Reason for ceasing employment': 'separationtype',\n",
    "             'Gender. What is your Gender?': 'gender',\n",
    "             'CurrentAge. Current Age': 'age',\n",
    "             'Employment Type. Employment Type': 'employment_status',\n",
    "             'Classification. Classification': 'position',\n",
    "             'LengthofServiceOverall. Overall Length of Service at Institute (in years)': 'institute_service',\n",
    "             'LengthofServiceCurrent. Length of Service at current workplace (in years)': 'role_service'}, \n",
    "            axis='columns',\n",
    "           inplace=True)"
   ]
  },
  {
   "cell_type": "code",
   "execution_count": 39,
   "metadata": {},
   "outputs": [],
   "source": [
    "# tafe.head()"
   ]
  },
  {
   "cell_type": "markdown",
   "metadata": {},
   "source": [
    "#### Renamed col names to make it easier to call. "
   ]
  },
  {
   "cell_type": "markdown",
   "metadata": {},
   "source": [
    "## 4. Filter the Data"
   ]
  },
  {
   "cell_type": "markdown",
   "metadata": {},
   "source": [
    "*Filter data to answer*\n",
    "- Are employees who have only worked for the institutes for a short period of time resigning due to some kind of dissatisfaction? \n",
    "- What about employees who have been at the job longer?"
   ]
  },
  {
   "cell_type": "code",
   "execution_count": 40,
   "metadata": {},
   "outputs": [
    {
     "data": {
      "text/plain": [
       "array(['Contract Expired', 'Retirement', 'Resignation',\n",
       "       'Retrenchment/ Redundancy', 'Termination', 'Transfer', nan],\n",
       "      dtype=object)"
      ]
     },
     "execution_count": 40,
     "metadata": {},
     "output_type": "execute_result"
    }
   ],
   "source": [
    "tafe['separationtype'].unique() #'Resignation'"
   ]
  },
  {
   "cell_type": "code",
   "execution_count": 41,
   "metadata": {},
   "outputs": [
    {
     "data": {
      "text/plain": [
       "array(['Ill Health Retirement', 'Voluntary Early Retirement (VER)',\n",
       "       'Resignation-Other reasons', 'Age Retirement',\n",
       "       'Resignation-Other employer',\n",
       "       'Resignation-Move overseas/interstate', 'Other',\n",
       "       'Contract Expired', 'Termination'], dtype=object)"
      ]
     },
     "execution_count": 41,
     "metadata": {},
     "output_type": "execute_result"
    }
   ],
   "source": [
    "dete['separationtype'].unique() #'Resignation-Other reasons'\n",
    "                                #'Resignation-Other employer'\n",
    "                                #'Resignation-Move overseas/interstate'"
   ]
  },
  {
   "cell_type": "markdown",
   "metadata": {},
   "source": [
    "### `separationtype`\n",
    "\n",
    "- `dete`\n",
    "    - `Resignation-Other reasons`\n",
    "    - `Resignation-Other employer`\n",
    "    - `Resignation-Move overseas/interstate`\n",
    "- `tafe`\n",
    "    - `Resignation`"
   ]
  },
  {
   "cell_type": "code",
   "execution_count": 42,
   "metadata": {},
   "outputs": [
    {
     "name": "stdout",
     "output_type": "stream",
     "text": [
      "dete.shape (822, 35)\n",
      "tafe.shape (702, 23)\n"
     ]
    }
   ],
   "source": [
    "# #copy datasets\n",
    "# dete.copy()\n",
    "# tafe.copy()\n",
    "\n",
    "print('dete.shape', dete.shape)\n",
    "print('tafe.shape', tafe.shape)"
   ]
  },
  {
   "cell_type": "code",
   "execution_count": 43,
   "metadata": {},
   "outputs": [],
   "source": [
    "# Filter for resignation types\n",
    "dete_resignation = dete.loc[(dete['separationtype'] == 'Resignation-Other reasons') | \n",
    "                             (dete['separationtype'] =='Resignation-Other employer') | \n",
    "                             (dete['separationtype'] == 'Resignation-Move overseas/interstate')]"
   ]
  },
  {
   "cell_type": "code",
   "execution_count": 44,
   "metadata": {},
   "outputs": [
    {
     "data": {
      "text/html": [
       "<div>\n",
       "<style scoped>\n",
       "    .dataframe tbody tr th:only-of-type {\n",
       "        vertical-align: middle;\n",
       "    }\n",
       "\n",
       "    .dataframe tbody tr th {\n",
       "        vertical-align: top;\n",
       "    }\n",
       "\n",
       "    .dataframe thead th {\n",
       "        text-align: right;\n",
       "    }\n",
       "</style>\n",
       "<table border=\"1\" class=\"dataframe\">\n",
       "  <thead>\n",
       "    <tr style=\"text-align: right;\">\n",
       "      <th></th>\n",
       "      <th>id</th>\n",
       "      <th>separationtype</th>\n",
       "      <th>cease_date</th>\n",
       "      <th>dete_start_date</th>\n",
       "      <th>role_start_date</th>\n",
       "      <th>position</th>\n",
       "      <th>classification</th>\n",
       "      <th>region</th>\n",
       "      <th>business_unit</th>\n",
       "      <th>employment_status</th>\n",
       "      <th>...</th>\n",
       "      <th>work_life_balance</th>\n",
       "      <th>workload</th>\n",
       "      <th>none_of_the_above</th>\n",
       "      <th>gender</th>\n",
       "      <th>age</th>\n",
       "      <th>aboriginal</th>\n",
       "      <th>torres_strait</th>\n",
       "      <th>south_sea</th>\n",
       "      <th>disability</th>\n",
       "      <th>nesb</th>\n",
       "    </tr>\n",
       "  </thead>\n",
       "  <tbody>\n",
       "    <tr>\n",
       "      <th>3</th>\n",
       "      <td>4</td>\n",
       "      <td>Resignation-Other reasons</td>\n",
       "      <td>05/2012</td>\n",
       "      <td>2005</td>\n",
       "      <td>2006</td>\n",
       "      <td>Teacher</td>\n",
       "      <td>Primary</td>\n",
       "      <td>Central Queensland</td>\n",
       "      <td>NaN</td>\n",
       "      <td>Permanent Full-time</td>\n",
       "      <td>...</td>\n",
       "      <td>False</td>\n",
       "      <td>False</td>\n",
       "      <td>False</td>\n",
       "      <td>Female</td>\n",
       "      <td>36-40</td>\n",
       "      <td>NaN</td>\n",
       "      <td>NaN</td>\n",
       "      <td>NaN</td>\n",
       "      <td>NaN</td>\n",
       "      <td>NaN</td>\n",
       "    </tr>\n",
       "    <tr>\n",
       "      <th>5</th>\n",
       "      <td>6</td>\n",
       "      <td>Resignation-Other reasons</td>\n",
       "      <td>05/2012</td>\n",
       "      <td>1994</td>\n",
       "      <td>1997</td>\n",
       "      <td>Guidance Officer</td>\n",
       "      <td>NaN</td>\n",
       "      <td>Central Office</td>\n",
       "      <td>Education Queensland</td>\n",
       "      <td>Permanent Full-time</td>\n",
       "      <td>...</td>\n",
       "      <td>False</td>\n",
       "      <td>False</td>\n",
       "      <td>False</td>\n",
       "      <td>Female</td>\n",
       "      <td>41-45</td>\n",
       "      <td>NaN</td>\n",
       "      <td>NaN</td>\n",
       "      <td>NaN</td>\n",
       "      <td>NaN</td>\n",
       "      <td>NaN</td>\n",
       "    </tr>\n",
       "  </tbody>\n",
       "</table>\n",
       "<p>2 rows × 35 columns</p>\n",
       "</div>"
      ],
      "text/plain": [
       "   id             separationtype cease_date dete_start_date role_start_date  \\\n",
       "3   4  Resignation-Other reasons    05/2012            2005            2006   \n",
       "5   6  Resignation-Other reasons    05/2012            1994            1997   \n",
       "\n",
       "           position classification              region         business_unit  \\\n",
       "3           Teacher        Primary  Central Queensland                   NaN   \n",
       "5  Guidance Officer            NaN      Central Office  Education Queensland   \n",
       "\n",
       "     employment_status  ...  work_life_balance  workload  none_of_the_above  \\\n",
       "3  Permanent Full-time  ...              False     False              False   \n",
       "5  Permanent Full-time  ...              False     False              False   \n",
       "\n",
       "   gender    age  aboriginal  torres_strait  south_sea  disability  nesb  \n",
       "3  Female  36-40         NaN            NaN        NaN         NaN   NaN  \n",
       "5  Female  41-45         NaN            NaN        NaN         NaN   NaN  \n",
       "\n",
       "[2 rows x 35 columns]"
      ]
     },
     "execution_count": 44,
     "metadata": {},
     "output_type": "execute_result"
    }
   ],
   "source": [
    "dete_resignation.head(2)"
   ]
  },
  {
   "cell_type": "code",
   "execution_count": 45,
   "metadata": {},
   "outputs": [],
   "source": [
    "# Filter for resignation\n",
    "tafe_resignation = tafe[tafe['separationtype'] == 'Resignation']"
   ]
  },
  {
   "cell_type": "code",
   "execution_count": 46,
   "metadata": {},
   "outputs": [
    {
     "data": {
      "text/html": [
       "<div>\n",
       "<style scoped>\n",
       "    .dataframe tbody tr th:only-of-type {\n",
       "        vertical-align: middle;\n",
       "    }\n",
       "\n",
       "    .dataframe tbody tr th {\n",
       "        vertical-align: top;\n",
       "    }\n",
       "\n",
       "    .dataframe thead th {\n",
       "        text-align: right;\n",
       "    }\n",
       "</style>\n",
       "<table border=\"1\" class=\"dataframe\">\n",
       "  <thead>\n",
       "    <tr style=\"text-align: right;\">\n",
       "      <th></th>\n",
       "      <th>id</th>\n",
       "      <th>Institute</th>\n",
       "      <th>WorkArea</th>\n",
       "      <th>cease_date</th>\n",
       "      <th>separationtype</th>\n",
       "      <th>Contributing Factors. Career Move - Public Sector</th>\n",
       "      <th>Contributing Factors. Career Move - Private Sector</th>\n",
       "      <th>Contributing Factors. Career Move - Self-employment</th>\n",
       "      <th>Contributing Factors. Ill Health</th>\n",
       "      <th>Contributing Factors. Maternity/Family</th>\n",
       "      <th>...</th>\n",
       "      <th>Contributing Factors. Study</th>\n",
       "      <th>Contributing Factors. Travel</th>\n",
       "      <th>Contributing Factors. Other</th>\n",
       "      <th>Contributing Factors. NONE</th>\n",
       "      <th>gender</th>\n",
       "      <th>age</th>\n",
       "      <th>employment_status</th>\n",
       "      <th>position</th>\n",
       "      <th>institute_service</th>\n",
       "      <th>role_service</th>\n",
       "    </tr>\n",
       "  </thead>\n",
       "  <tbody>\n",
       "    <tr>\n",
       "      <th>3</th>\n",
       "      <td>6.341399e+17</td>\n",
       "      <td>Mount Isa Institute of TAFE</td>\n",
       "      <td>Non-Delivery (corporate)</td>\n",
       "      <td>2010.0</td>\n",
       "      <td>Resignation</td>\n",
       "      <td>-</td>\n",
       "      <td>-</td>\n",
       "      <td>-</td>\n",
       "      <td>-</td>\n",
       "      <td>-</td>\n",
       "      <td>...</td>\n",
       "      <td>-</td>\n",
       "      <td>Travel</td>\n",
       "      <td>-</td>\n",
       "      <td>-</td>\n",
       "      <td>NaN</td>\n",
       "      <td>NaN</td>\n",
       "      <td>NaN</td>\n",
       "      <td>NaN</td>\n",
       "      <td>NaN</td>\n",
       "      <td>NaN</td>\n",
       "    </tr>\n",
       "    <tr>\n",
       "      <th>4</th>\n",
       "      <td>6.341466e+17</td>\n",
       "      <td>Southern Queensland Institute of TAFE</td>\n",
       "      <td>Delivery (teaching)</td>\n",
       "      <td>2010.0</td>\n",
       "      <td>Resignation</td>\n",
       "      <td>-</td>\n",
       "      <td>Career Move - Private Sector</td>\n",
       "      <td>-</td>\n",
       "      <td>-</td>\n",
       "      <td>-</td>\n",
       "      <td>...</td>\n",
       "      <td>-</td>\n",
       "      <td>-</td>\n",
       "      <td>-</td>\n",
       "      <td>-</td>\n",
       "      <td>Male</td>\n",
       "      <td>41  45</td>\n",
       "      <td>Permanent Full-time</td>\n",
       "      <td>Teacher (including LVT)</td>\n",
       "      <td>3-4</td>\n",
       "      <td>3-4</td>\n",
       "    </tr>\n",
       "  </tbody>\n",
       "</table>\n",
       "<p>2 rows × 23 columns</p>\n",
       "</div>"
      ],
      "text/plain": [
       "             id                              Institute  \\\n",
       "3  6.341399e+17            Mount Isa Institute of TAFE   \n",
       "4  6.341466e+17  Southern Queensland Institute of TAFE   \n",
       "\n",
       "                   WorkArea  cease_date separationtype  \\\n",
       "3  Non-Delivery (corporate)      2010.0    Resignation   \n",
       "4       Delivery (teaching)      2010.0    Resignation   \n",
       "\n",
       "  Contributing Factors. Career Move - Public Sector   \\\n",
       "3                                                  -   \n",
       "4                                                  -   \n",
       "\n",
       "  Contributing Factors. Career Move - Private Sector   \\\n",
       "3                                                  -    \n",
       "4                       Career Move - Private Sector    \n",
       "\n",
       "  Contributing Factors. Career Move - Self-employment  \\\n",
       "3                                                  -    \n",
       "4                                                  -    \n",
       "\n",
       "  Contributing Factors. Ill Health Contributing Factors. Maternity/Family  \\\n",
       "3                                -                                      -   \n",
       "4                                -                                      -   \n",
       "\n",
       "   ... Contributing Factors. Study Contributing Factors. Travel  \\\n",
       "3  ...                           -                       Travel   \n",
       "4  ...                           -                            -   \n",
       "\n",
       "  Contributing Factors. Other Contributing Factors. NONE gender     age  \\\n",
       "3                           -                          -    NaN     NaN   \n",
       "4                           -                          -   Male  41  45   \n",
       "\n",
       "     employment_status                 position institute_service role_service  \n",
       "3                  NaN                      NaN               NaN          NaN  \n",
       "4  Permanent Full-time  Teacher (including LVT)               3-4          3-4  \n",
       "\n",
       "[2 rows x 23 columns]"
      ]
     },
     "execution_count": 46,
     "metadata": {},
     "output_type": "execute_result"
    }
   ],
   "source": [
    "tafe_resignation.head(2)"
   ]
  },
  {
   "cell_type": "code",
   "execution_count": 47,
   "metadata": {},
   "outputs": [
    {
     "name": "stdout",
     "output_type": "stream",
     "text": [
      "dete_resignation.shape (311, 35)\n",
      "tafe_resignation.shape (340, 23)\n"
     ]
    }
   ],
   "source": [
    "print('dete_resignation.shape', dete_resignation.shape)\n",
    "print('tafe_resignation.shape', tafe_resignation.shape)"
   ]
  },
  {
   "cell_type": "markdown",
   "metadata": {},
   "source": [
    "#### Filtered for resignations only to answer question; filtered out 50% irrelevant data. "
   ]
  },
  {
   "cell_type": "markdown",
   "metadata": {},
   "source": [
    "## 5. Verify the Data"
   ]
  },
  {
   "cell_type": "code",
   "execution_count": 48,
   "metadata": {},
   "outputs": [],
   "source": [
    "# function to clean up date columns by extracting the year from MM/YYYY or replacing 'Not Stated' with 0. \n",
    "def extract_year(cease_date):\n",
    "    years = []\n",
    "    for i in cease_date:\n",
    "        if i == 'Not Stated':\n",
    "            years.append(0) \n",
    "        elif len(i) == 7:\n",
    "            years.append(int(i[3:7]))\n",
    "        else:\n",
    "            years.append(int(i))\n",
    "\n",
    "    return years"
   ]
  },
  {
   "cell_type": "markdown",
   "metadata": {},
   "source": [
    "### Dete Resignation Years"
   ]
  },
  {
   "cell_type": "code",
   "execution_count": 49,
   "metadata": {},
   "outputs": [
    {
     "data": {
      "text/plain": [
       "01/2014        22\n",
       "05/2012         2\n",
       "05/2013         2\n",
       "06/2013        14\n",
       "07/2006         1\n",
       "07/2012         1\n",
       "07/2013         9\n",
       "08/2013         4\n",
       "09/2010         1\n",
       "09/2013        11\n",
       "10/2013         6\n",
       "11/2013         9\n",
       "12/2013        17\n",
       "2010            1\n",
       "2012          126\n",
       "2013           74\n",
       "Not Stated     11\n",
       "Name: cease_date, dtype: int64"
      ]
     },
     "execution_count": 49,
     "metadata": {},
     "output_type": "execute_result"
    }
   ],
   "source": [
    "# before `cease_date`\n",
    "dete_resignation['cease_date'].value_counts().sort_index(ascending=True)"
   ]
  },
  {
   "cell_type": "code",
   "execution_count": 50,
   "metadata": {},
   "outputs": [
    {
     "data": {
      "text/plain": [
       "[2012,\n",
       " 2012,\n",
       " 2012,\n",
       " 2012,\n",
       " 2012,\n",
       " 2012,\n",
       " 2012,\n",
       " 2012,\n",
       " 2012,\n",
       " 2012,\n",
       " 2012,\n",
       " 2012,\n",
       " 2012,\n",
       " 2012,\n",
       " 2012,\n",
       " 2012,\n",
       " 2012,\n",
       " 2012,\n",
       " 2012,\n",
       " 2012,\n",
       " 2012,\n",
       " 2012,\n",
       " 2012,\n",
       " 2012,\n",
       " 2012,\n",
       " 2012,\n",
       " 2012,\n",
       " 2012,\n",
       " 2012,\n",
       " 2012,\n",
       " 2012,\n",
       " 2012,\n",
       " 2012,\n",
       " 2012,\n",
       " 2012,\n",
       " 2012,\n",
       " 2012,\n",
       " 2012,\n",
       " 2012,\n",
       " 2012,\n",
       " 2012,\n",
       " 2012,\n",
       " 2012,\n",
       " 2012,\n",
       " 2012,\n",
       " 2012,\n",
       " 2012,\n",
       " 2012,\n",
       " 2012,\n",
       " 2012,\n",
       " 2012,\n",
       " 2012,\n",
       " 2012,\n",
       " 2012,\n",
       " 2012,\n",
       " 2012,\n",
       " 2012,\n",
       " 2012,\n",
       " 2012,\n",
       " 2012,\n",
       " 2012,\n",
       " 2012,\n",
       " 2012,\n",
       " 2012,\n",
       " 2012,\n",
       " 2012,\n",
       " 2012,\n",
       " 2012,\n",
       " 2012,\n",
       " 2012,\n",
       " 2012,\n",
       " 2012,\n",
       " 2012,\n",
       " 2013,\n",
       " 2012,\n",
       " 2013,\n",
       " 2012,\n",
       " 2012,\n",
       " 2012,\n",
       " 2012,\n",
       " 2012,\n",
       " 2012,\n",
       " 2013,\n",
       " 2013,\n",
       " 2012,\n",
       " 2012,\n",
       " 2012,\n",
       " 2012,\n",
       " 2012,\n",
       " 2013,\n",
       " 2012,\n",
       " 2012,\n",
       " 2012,\n",
       " 2012,\n",
       " 2012,\n",
       " 2013,\n",
       " 2013,\n",
       " 2012,\n",
       " 2012,\n",
       " 2012,\n",
       " 2012,\n",
       " 2012,\n",
       " 2012,\n",
       " 2013,\n",
       " 2013,\n",
       " 2013,\n",
       " 2013,\n",
       " 2012,\n",
       " 2012,\n",
       " 2012,\n",
       " 2013,\n",
       " 2012,\n",
       " 2012,\n",
       " 2012,\n",
       " 2012,\n",
       " 2012,\n",
       " 2013,\n",
       " 2012,\n",
       " 2012,\n",
       " 2012,\n",
       " 2013,\n",
       " 2013,\n",
       " 2013,\n",
       " 2013,\n",
       " 2012,\n",
       " 2013,\n",
       " 2013,\n",
       " 2012,\n",
       " 2012,\n",
       " 2012,\n",
       " 2012,\n",
       " 2012,\n",
       " 2012,\n",
       " 2013,\n",
       " 2012,\n",
       " 2013,\n",
       " 2013,\n",
       " 2013,\n",
       " 2012,\n",
       " 2012,\n",
       " 2013,\n",
       " 2012,\n",
       " 2013,\n",
       " 2013,\n",
       " 2012,\n",
       " 2012,\n",
       " 2013,\n",
       " 2013,\n",
       " 2013,\n",
       " 2013,\n",
       " 2012,\n",
       " 2013,\n",
       " 2013,\n",
       " 2013,\n",
       " 2013,\n",
       " 2013,\n",
       " 2013,\n",
       " 2013,\n",
       " 2013,\n",
       " 2012,\n",
       " 2013,\n",
       " 2012,\n",
       " 2013,\n",
       " 2013,\n",
       " 2013,\n",
       " 2013,\n",
       " 2012,\n",
       " 2013,\n",
       " 2013,\n",
       " 2013,\n",
       " 2013,\n",
       " 2013,\n",
       " 2013,\n",
       " 2013,\n",
       " 2013,\n",
       " 2013,\n",
       " 2013,\n",
       " 2012,\n",
       " 2012,\n",
       " 2013,\n",
       " 2012,\n",
       " 2013,\n",
       " 2012,\n",
       " 2013,\n",
       " 2013,\n",
       " 2013,\n",
       " 2013,\n",
       " 2013,\n",
       " 2013,\n",
       " 2013,\n",
       " 2013,\n",
       " 2010,\n",
       " 2013,\n",
       " 2013,\n",
       " 2012,\n",
       " 2013,\n",
       " 2013,\n",
       " 2013,\n",
       " 2013,\n",
       " 2013,\n",
       " 2013,\n",
       " 2013,\n",
       " 2013,\n",
       " 2013,\n",
       " 2013,\n",
       " 2013,\n",
       " 2013,\n",
       " 2013,\n",
       " 2013,\n",
       " 2013,\n",
       " 2013,\n",
       " 2013,\n",
       " 2013,\n",
       " 2013,\n",
       " 2013,\n",
       " 2010,\n",
       " 2013,\n",
       " 2013,\n",
       " 2014,\n",
       " 2013,\n",
       " 2013,\n",
       " 2013,\n",
       " 2013,\n",
       " 2013,\n",
       " 2013,\n",
       " 2013,\n",
       " 2013,\n",
       " 2013,\n",
       " 2013,\n",
       " 2013,\n",
       " 2013,\n",
       " 2013,\n",
       " 2013,\n",
       " 2013,\n",
       " 2013,\n",
       " 2013,\n",
       " 2013,\n",
       " 2013,\n",
       " 2013,\n",
       " 2013,\n",
       " 2013,\n",
       " 2013,\n",
       " 2013,\n",
       " 2013,\n",
       " 2013,\n",
       " 2013,\n",
       " 2014,\n",
       " 2014,\n",
       " 2013,\n",
       " 2013,\n",
       " 2013,\n",
       " 2013,\n",
       " 2014,\n",
       " 2013,\n",
       " 2013,\n",
       " 0,\n",
       " 2013,\n",
       " 2014,\n",
       " 2013,\n",
       " 2014,\n",
       " 2014,\n",
       " 2013,\n",
       " 2014,\n",
       " 0,\n",
       " 2013,\n",
       " 2013,\n",
       " 2013,\n",
       " 2013,\n",
       " 2013,\n",
       " 0,\n",
       " 0,\n",
       " 2013,\n",
       " 2013,\n",
       " 0,\n",
       " 2014,\n",
       " 2014,\n",
       " 2013,\n",
       " 2014,\n",
       " 2013,\n",
       " 2013,\n",
       " 2013,\n",
       " 2014,\n",
       " 2013,\n",
       " 2013,\n",
       " 2013,\n",
       " 2013,\n",
       " 2006,\n",
       " 2014,\n",
       " 2013,\n",
       " 0,\n",
       " 2014,\n",
       " 0,\n",
       " 2013,\n",
       " 2014,\n",
       " 0,\n",
       " 2014,\n",
       " 2014,\n",
       " 0,\n",
       " 2013,\n",
       " 0,\n",
       " 0,\n",
       " 2013,\n",
       " 2014,\n",
       " 2014,\n",
       " 2013,\n",
       " 2013,\n",
       " 2013,\n",
       " 2014,\n",
       " 2014,\n",
       " 2014,\n",
       " 2013]"
      ]
     },
     "execution_count": 50,
     "metadata": {},
     "output_type": "execute_result"
    }
   ],
   "source": [
    "# run `cease_date` through extract_year() function\n",
    "extract_year(dete_resignation['cease_date'])"
   ]
  },
  {
   "cell_type": "code",
   "execution_count": 51,
   "metadata": {},
   "outputs": [
    {
     "name": "stderr",
     "output_type": "stream",
     "text": [
      "/var/folders/m7/q9jqt2zs3b1b4t81n_tpn1lh0000gn/T/ipykernel_10448/2989179497.py:1: SettingWithCopyWarning: \n",
      "A value is trying to be set on a copy of a slice from a DataFrame.\n",
      "Try using .loc[row_indexer,col_indexer] = value instead\n",
      "\n",
      "See the caveats in the documentation: https://pandas.pydata.org/pandas-docs/stable/user_guide/indexing.html#returning-a-view-versus-a-copy\n",
      "  dete_resignation['cease_date'] = extract_year(dete_resignation['cease_date'])\n"
     ]
    }
   ],
   "source": [
    "dete_resignation['cease_date'] = extract_year(dete_resignation['cease_date'])"
   ]
  },
  {
   "cell_type": "code",
   "execution_count": 52,
   "metadata": {},
   "outputs": [
    {
     "data": {
      "text/plain": [
       "2014     22\n",
       "2013    146\n",
       "2012    129\n",
       "2010      2\n",
       "2006      1\n",
       "0        11\n",
       "Name: cease_date, dtype: int64"
      ]
     },
     "execution_count": 52,
     "metadata": {},
     "output_type": "execute_result"
    }
   ],
   "source": [
    "# after `cease_date`\n",
    "dete_resignation['cease_date'].value_counts().sort_index(ascending=False)"
   ]
  },
  {
   "cell_type": "code",
   "execution_count": 53,
   "metadata": {},
   "outputs": [
    {
     "data": {
      "text/plain": [
       "1963           1\n",
       "1971           1\n",
       "1972           1\n",
       "1973           1\n",
       "1974           2\n",
       "1975           1\n",
       "1976           2\n",
       "1977           1\n",
       "1980           5\n",
       "1982           1\n",
       "1983           2\n",
       "1984           1\n",
       "1985           3\n",
       "1986           3\n",
       "1987           1\n",
       "1988           4\n",
       "1989           4\n",
       "1990           5\n",
       "1991           4\n",
       "1992           6\n",
       "1993           5\n",
       "1994           6\n",
       "1995           4\n",
       "1996           6\n",
       "1997           5\n",
       "1998           6\n",
       "1999           8\n",
       "2000           9\n",
       "2001           3\n",
       "2002           6\n",
       "2003           6\n",
       "2004          14\n",
       "2005          15\n",
       "2006          13\n",
       "2007          21\n",
       "2008          22\n",
       "2009          13\n",
       "2010          17\n",
       "2011          24\n",
       "2012          21\n",
       "2013          10\n",
       "Not Stated    28\n",
       "Name: dete_start_date, dtype: int64"
      ]
     },
     "execution_count": 53,
     "metadata": {},
     "output_type": "execute_result"
    }
   ],
   "source": [
    "# before `dete_start_date`\n",
    "dete_resignation['dete_start_date'].value_counts().sort_index(ascending=True)"
   ]
  },
  {
   "cell_type": "code",
   "execution_count": 54,
   "metadata": {},
   "outputs": [
    {
     "data": {
      "text/plain": [
       "[2005,\n",
       " 1994,\n",
       " 2009,\n",
       " 1997,\n",
       " 2009,\n",
       " 1998,\n",
       " 2007,\n",
       " 0,\n",
       " 1982,\n",
       " 1980,\n",
       " 1997,\n",
       " 1973,\n",
       " 1995,\n",
       " 2005,\n",
       " 2003,\n",
       " 2006,\n",
       " 2011,\n",
       " 0,\n",
       " 1977,\n",
       " 1974,\n",
       " 2011,\n",
       " 1976,\n",
       " 2009,\n",
       " 2009,\n",
       " 1993,\n",
       " 2008,\n",
       " 2003,\n",
       " 2011,\n",
       " 2006,\n",
       " 2011,\n",
       " 2007,\n",
       " 1986,\n",
       " 2002,\n",
       " 2011,\n",
       " 2006,\n",
       " 2002,\n",
       " 2004,\n",
       " 0,\n",
       " 2008,\n",
       " 2004,\n",
       " 2007,\n",
       " 1997,\n",
       " 1976,\n",
       " 2010,\n",
       " 2012,\n",
       " 1980,\n",
       " 2012,\n",
       " 2007,\n",
       " 1994,\n",
       " 2004,\n",
       " 0,\n",
       " 2007,\n",
       " 2003,\n",
       " 2011,\n",
       " 2003,\n",
       " 2005,\n",
       " 2012,\n",
       " 1998,\n",
       " 2005,\n",
       " 2006,\n",
       " 1995,\n",
       " 1989,\n",
       " 0,\n",
       " 2005,\n",
       " 2008,\n",
       " 2006,\n",
       " 2007,\n",
       " 1986,\n",
       " 1999,\n",
       " 1996,\n",
       " 2009,\n",
       " 1994,\n",
       " 2009,\n",
       " 2007,\n",
       " 2011,\n",
       " 2006,\n",
       " 2000,\n",
       " 2008,\n",
       " 2005,\n",
       " 2012,\n",
       " 2007,\n",
       " 2008,\n",
       " 2011,\n",
       " 2009,\n",
       " 2011,\n",
       " 2011,\n",
       " 2011,\n",
       " 2010,\n",
       " 1991,\n",
       " 2011,\n",
       " 1992,\n",
       " 2007,\n",
       " 2007,\n",
       " 2012,\n",
       " 2012,\n",
       " 0,\n",
       " 0,\n",
       " 0,\n",
       " 1980,\n",
       " 2006,\n",
       " 1996,\n",
       " 0,\n",
       " 2005,\n",
       " 2009,\n",
       " 2001,\n",
       " 1999,\n",
       " 2001,\n",
       " 1989,\n",
       " 2012,\n",
       " 2011,\n",
       " 2007,\n",
       " 2011,\n",
       " 2000,\n",
       " 2008,\n",
       " 2011,\n",
       " 2012,\n",
       " 2005,\n",
       " 0,\n",
       " 1988,\n",
       " 2008,\n",
       " 1980,\n",
       " 2007,\n",
       " 1992,\n",
       " 2003,\n",
       " 0,\n",
       " 2010,\n",
       " 2012,\n",
       " 2012,\n",
       " 1992,\n",
       " 1999,\n",
       " 2007,\n",
       " 1990,\n",
       " 0,\n",
       " 2008,\n",
       " 1994,\n",
       " 2007,\n",
       " 1985,\n",
       " 2000,\n",
       " 2007,\n",
       " 1993,\n",
       " 0,\n",
       " 0,\n",
       " 1991,\n",
       " 0,\n",
       " 2006,\n",
       " 0,\n",
       " 2008,\n",
       " 2008,\n",
       " 1997,\n",
       " 2011,\n",
       " 1963,\n",
       " 2008,\n",
       " 2012,\n",
       " 2008,\n",
       " 2008,\n",
       " 1993,\n",
       " 2006,\n",
       " 2002,\n",
       " 0,\n",
       " 1992,\n",
       " 2010,\n",
       " 0,\n",
       " 2009,\n",
       " 1991,\n",
       " 2013,\n",
       " 2013,\n",
       " 2011,\n",
       " 2010,\n",
       " 2002,\n",
       " 2000,\n",
       " 1990,\n",
       " 0,\n",
       " 1997,\n",
       " 2008,\n",
       " 2004,\n",
       " 2000,\n",
       " 2013,\n",
       " 1990,\n",
       " 2005,\n",
       " 1993,\n",
       " 0,\n",
       " 1974,\n",
       " 1988,\n",
       " 2012,\n",
       " 2009,\n",
       " 2013,\n",
       " 2002,\n",
       " 1972,\n",
       " 2008,\n",
       " 1989,\n",
       " 2009,\n",
       " 2007,\n",
       " 0,\n",
       " 1999,\n",
       " 2008,\n",
       " 2007,\n",
       " 0,\n",
       " 2007,\n",
       " 1996,\n",
       " 2011,\n",
       " 2010,\n",
       " 2000,\n",
       " 2011,\n",
       " 2005,\n",
       " 2011,\n",
       " 2012,\n",
       " 1990,\n",
       " 2000,\n",
       " 2010,\n",
       " 1998,\n",
       " 2004,\n",
       " 2004,\n",
       " 1994,\n",
       " 2008,\n",
       " 2012,\n",
       " 1999,\n",
       " 2011,\n",
       " 1985,\n",
       " 2005,\n",
       " 2001,\n",
       " 2005,\n",
       " 2010,\n",
       " 1996,\n",
       " 2004,\n",
       " 2004,\n",
       " 1989,\n",
       " 1993,\n",
       " 2010,\n",
       " 1996,\n",
       " 2003,\n",
       " 1983,\n",
       " 2004,\n",
       " 2011,\n",
       " 2010,\n",
       " 2006,\n",
       " 2013,\n",
       " 2010,\n",
       " 2010,\n",
       " 1992,\n",
       " 1995,\n",
       " 1996,\n",
       " 2010,\n",
       " 1986,\n",
       " 1971,\n",
       " 1998,\n",
       " 0,\n",
       " 1999,\n",
       " 2012,\n",
       " 2011,\n",
       " 2013,\n",
       " 2013,\n",
       " 2009,\n",
       " 2010,\n",
       " 2012,\n",
       " 1988,\n",
       " 2011,\n",
       " 2004,\n",
       " 1985,\n",
       " 2013,\n",
       " 2004,\n",
       " 1998,\n",
       " 2012,\n",
       " 2010,\n",
       " 2012,\n",
       " 2008,\n",
       " 2010,\n",
       " 2007,\n",
       " 1988,\n",
       " 2013,\n",
       " 2006,\n",
       " 0,\n",
       " 0,\n",
       " 2000,\n",
       " 1984,\n",
       " 1975,\n",
       " 1980,\n",
       " 1999,\n",
       " 1992,\n",
       " 2006,\n",
       " 1999,\n",
       " 1991,\n",
       " 2008,\n",
       " 2005,\n",
       " 1998,\n",
       " 2004,\n",
       " 2012,\n",
       " 2006,\n",
       " 2007,\n",
       " 2008,\n",
       " 1987,\n",
       " 2002,\n",
       " 2005,\n",
       " 2013,\n",
       " 1994,\n",
       " 1990,\n",
       " 1983,\n",
       " 2008,\n",
       " 2007,\n",
       " 0,\n",
       " 2000,\n",
       " 1995,\n",
       " 0,\n",
       " 2004,\n",
       " 2008,\n",
       " 2005,\n",
       " 2004,\n",
       " 2010,\n",
       " 2012,\n",
       " 2012,\n",
       " 2009,\n",
       " 0]"
      ]
     },
     "execution_count": 54,
     "metadata": {},
     "output_type": "execute_result"
    }
   ],
   "source": [
    "# run `dete_start_date` through extract_year() function\n",
    "extract_year(dete_resignation['dete_start_date'])"
   ]
  },
  {
   "cell_type": "code",
   "execution_count": 55,
   "metadata": {},
   "outputs": [
    {
     "name": "stderr",
     "output_type": "stream",
     "text": [
      "/var/folders/m7/q9jqt2zs3b1b4t81n_tpn1lh0000gn/T/ipykernel_10448/2585752466.py:1: SettingWithCopyWarning: \n",
      "A value is trying to be set on a copy of a slice from a DataFrame.\n",
      "Try using .loc[row_indexer,col_indexer] = value instead\n",
      "\n",
      "See the caveats in the documentation: https://pandas.pydata.org/pandas-docs/stable/user_guide/indexing.html#returning-a-view-versus-a-copy\n",
      "  dete_resignation['dete_start_date'] = extract_year(dete_resignation['dete_start_date'])\n"
     ]
    }
   ],
   "source": [
    "dete_resignation['dete_start_date'] = extract_year(dete_resignation['dete_start_date'])"
   ]
  },
  {
   "cell_type": "code",
   "execution_count": 56,
   "metadata": {},
   "outputs": [
    {
     "data": {
      "text/plain": [
       "0       28\n",
       "1963     1\n",
       "1971     1\n",
       "1972     1\n",
       "1973     1\n",
       "1974     2\n",
       "1975     1\n",
       "1976     2\n",
       "1977     1\n",
       "1980     5\n",
       "1982     1\n",
       "1983     2\n",
       "1984     1\n",
       "1985     3\n",
       "1986     3\n",
       "1987     1\n",
       "1988     4\n",
       "1989     4\n",
       "1990     5\n",
       "1991     4\n",
       "1992     6\n",
       "1993     5\n",
       "1994     6\n",
       "1995     4\n",
       "1996     6\n",
       "1997     5\n",
       "1998     6\n",
       "1999     8\n",
       "2000     9\n",
       "2001     3\n",
       "2002     6\n",
       "2003     6\n",
       "2004    14\n",
       "2005    15\n",
       "2006    13\n",
       "2007    21\n",
       "2008    22\n",
       "2009    13\n",
       "2010    17\n",
       "2011    24\n",
       "2012    21\n",
       "2013    10\n",
       "Name: dete_start_date, dtype: int64"
      ]
     },
     "execution_count": 56,
     "metadata": {},
     "output_type": "execute_result"
    }
   ],
   "source": [
    "# after `dete_start_date`\n",
    "dete_resignation['dete_start_date'].value_counts().sort_index(ascending=True)"
   ]
  },
  {
   "cell_type": "markdown",
   "metadata": {},
   "source": [
    "### Tafe Resignation Years"
   ]
  },
  {
   "cell_type": "code",
   "execution_count": 57,
   "metadata": {},
   "outputs": [
    {
     "data": {
      "text/plain": [
       "2009.0      2\n",
       "2010.0     68\n",
       "2011.0    116\n",
       "2012.0     94\n",
       "2013.0     55\n",
       "Name: cease_date, dtype: int64"
      ]
     },
     "execution_count": 57,
     "metadata": {},
     "output_type": "execute_result"
    }
   ],
   "source": [
    "# `cease_date`\n",
    "tafe_resignation['cease_date'].value_counts().sort_index(ascending=True)"
   ]
  },
  {
   "cell_type": "markdown",
   "metadata": {},
   "source": [
    "#### Observations:\n",
    "- Two columns needed the date format cleaned up. \n",
    "- Others are in int and are only years. \n",
    "- None of the years are before 1940 or after 2014. \n",
    "- Limited number of years that span the two data sets. May need to limit query to 2012-2014."
   ]
  },
  {
   "cell_type": "markdown",
   "metadata": {},
   "source": [
    "## 6. Create a New Column"
   ]
  },
  {
   "cell_type": "code",
   "execution_count": 58,
   "metadata": {},
   "outputs": [
    {
     "name": "stderr",
     "output_type": "stream",
     "text": [
      "/var/folders/m7/q9jqt2zs3b1b4t81n_tpn1lh0000gn/T/ipykernel_10448/3194734324.py:1: SettingWithCopyWarning: \n",
      "A value is trying to be set on a copy of a slice from a DataFrame.\n",
      "Try using .loc[row_indexer,col_indexer] = value instead\n",
      "\n",
      "See the caveats in the documentation: https://pandas.pydata.org/pandas-docs/stable/user_guide/indexing.html#returning-a-view-versus-a-copy\n",
      "  dete_resignation['institute_service'] = dete_resignation['cease_date'] - dete_resignation['dete_start_date']\n"
     ]
    },
    {
     "data": {
      "text/plain": [
       "-2012     1\n",
       "-2011     1\n",
       "-2007     1\n",
       "-2006     1\n",
       "-2005     1\n",
       "-2000     1\n",
       "-1995     1\n",
       "-1990     1\n",
       "-1987     1\n",
       "-1984     1\n",
       " 0       21\n",
       " 1       22\n",
       " 2       14\n",
       " 3       20\n",
       " 4       16\n",
       " 5       23\n",
       " 6       17\n",
       " 7       13\n",
       " 8        8\n",
       " 9       14\n",
       " 10       6\n",
       " 11       4\n",
       " 12       6\n",
       " 13       8\n",
       " 14       6\n",
       " 15       7\n",
       " 16       5\n",
       " 17       6\n",
       " 18       5\n",
       " 19       3\n",
       " 20       7\n",
       " 21       3\n",
       " 22       6\n",
       " 23       4\n",
       " 24       4\n",
       " 25       2\n",
       " 26       2\n",
       " 27       1\n",
       " 28       2\n",
       " 29       1\n",
       " 30       2\n",
       " 31       1\n",
       " 32       3\n",
       " 33       1\n",
       " 34       1\n",
       " 35       1\n",
       " 36       2\n",
       " 38       1\n",
       " 39       3\n",
       " 41       1\n",
       " 42       1\n",
       " 49       1\n",
       " 2012    14\n",
       " 2013    13\n",
       "Name: institute_service, dtype: int64"
      ]
     },
     "execution_count": 58,
     "metadata": {},
     "output_type": "execute_result"
    }
   ],
   "source": [
    "dete_resignation['institute_service'] = dete_resignation['cease_date'] - dete_resignation['dete_start_date']\n",
    "dete_resignation['institute_service'].value_counts().sort_index()\n",
    "# dete_resignation['institute_service'].head()"
   ]
  },
  {
   "cell_type": "code",
   "execution_count": 59,
   "metadata": {},
   "outputs": [
    {
     "data": {
      "text/plain": [
       "1-2                   64\n",
       "11-20                 26\n",
       "3-4                   63\n",
       "5-6                   33\n",
       "7-10                  21\n",
       "Less than 1 year      73\n",
       "More than 20 years    10\n",
       "Name: institute_service, dtype: int64"
      ]
     },
     "execution_count": 59,
     "metadata": {},
     "output_type": "execute_result"
    }
   ],
   "source": [
    "tafe_resignation['institute_service'].value_counts().sort_index()"
   ]
  },
  {
   "cell_type": "markdown",
   "metadata": {},
   "source": [
    "#### To calculate the length of service (employment), substract start year from cease year. "
   ]
  },
  {
   "cell_type": "markdown",
   "metadata": {},
   "source": [
    "## 7. Identify Dissatisfied Employees"
   ]
  },
  {
   "cell_type": "code",
   "execution_count": 60,
   "metadata": {},
   "outputs": [],
   "source": [
    "# # function to update values for dissatisfied employees\n",
    "def update_vals(x):\n",
    "    if x == '-':\n",
    "        return False\n",
    "    elif pd.isnull(x):\n",
    "        return np.nan\n",
    "    else:\n",
    "        return True"
   ]
  },
  {
   "cell_type": "code",
   "execution_count": 61,
   "metadata": {},
   "outputs": [
    {
     "data": {
      "text/plain": [
       "Resignation-Other reasons               150\n",
       "Resignation-Other employer               91\n",
       "Resignation-Move overseas/interstate     70\n",
       "Name: separationtype, dtype: int64"
      ]
     },
     "execution_count": 61,
     "metadata": {},
     "output_type": "execute_result"
    }
   ],
   "source": [
    "dete_resignation_up = dete_resignation.copy()\n",
    "dete_resignation_up['separationtype'].value_counts()"
   ]
  },
  {
   "cell_type": "code",
   "execution_count": 62,
   "metadata": {},
   "outputs": [],
   "source": [
    "# tafe_resignation['Contributing Factors. Dissatisfaction'].value_counts()\n",
    "# # Contributing Factors. Dissatisfaction 55\n",
    "# # - 277 "
   ]
  },
  {
   "cell_type": "code",
   "execution_count": 63,
   "metadata": {},
   "outputs": [],
   "source": [
    "# tafe_resignation['Contributing Factors. Job Dissatisfaction'].value_counts()\n",
    "# # Job Dissatisfaction 62\n",
    "# # - 270"
   ]
  },
  {
   "cell_type": "code",
   "execution_count": 64,
   "metadata": {},
   "outputs": [
    {
     "name": "stderr",
     "output_type": "stream",
     "text": [
      "/var/folders/m7/q9jqt2zs3b1b4t81n_tpn1lh0000gn/T/ipykernel_10448/3912788708.py:1: SettingWithCopyWarning: \n",
      "A value is trying to be set on a copy of a slice from a DataFrame.\n",
      "Try using .loc[row_indexer,col_indexer] = value instead\n",
      "\n",
      "See the caveats in the documentation: https://pandas.pydata.org/pandas-docs/stable/user_guide/indexing.html#returning-a-view-versus-a-copy\n",
      "  tafe_resignation['dissatisfied'] = tafe_resignation[['Contributing Factors. Dissatisfaction',\n"
     ]
    }
   ],
   "source": [
    "tafe_resignation['dissatisfied'] = tafe_resignation[['Contributing Factors. Dissatisfaction', \n",
    "                                                     'Contributing Factors. Job Dissatisfaction']].applymap(update_vals).any(axis=1, \n",
    "                                                                                                                             skipna=False)\n",
    "tafe_resignation_up = tafe_resignation.copy()\n",
    "# tafe_resignation_up.head(2)"
   ]
  },
  {
   "cell_type": "code",
   "execution_count": 65,
   "metadata": {},
   "outputs": [
    {
     "data": {
      "text/plain": [
       "False    241\n",
       "True      99\n",
       "Name: dissatisfied, dtype: int64"
      ]
     },
     "execution_count": 65,
     "metadata": {},
     "output_type": "execute_result"
    }
   ],
   "source": [
    "# Check the unique values after the updates\n",
    "tafe_resignation_up['dissatisfied'].value_counts(dropna=False)"
   ]
  },
  {
   "cell_type": "markdown",
   "metadata": {},
   "source": [
    "#### Changed dissatisfied col in tafe_resignations to True/False to identify employees who resigned because they were dissatisfied with their role. "
   ]
  },
  {
   "cell_type": "markdown",
   "metadata": {},
   "source": [
    "## 8. Combine the Data"
   ]
  },
  {
   "cell_type": "code",
   "execution_count": 66,
   "metadata": {},
   "outputs": [],
   "source": [
    "# add column to each df to distinguish the two\n",
    "\n",
    "dete_resignation_up['institute'] = 'DETE'\n",
    "tafe_resignation_up['institute'] = 'TAFE'"
   ]
  },
  {
   "cell_type": "code",
   "execution_count": 67,
   "metadata": {},
   "outputs": [
    {
     "data": {
      "text/html": [
       "<div>\n",
       "<style scoped>\n",
       "    .dataframe tbody tr th:only-of-type {\n",
       "        vertical-align: middle;\n",
       "    }\n",
       "\n",
       "    .dataframe tbody tr th {\n",
       "        vertical-align: top;\n",
       "    }\n",
       "\n",
       "    .dataframe thead th {\n",
       "        text-align: right;\n",
       "    }\n",
       "</style>\n",
       "<table border=\"1\" class=\"dataframe\">\n",
       "  <thead>\n",
       "    <tr style=\"text-align: right;\">\n",
       "      <th></th>\n",
       "      <th>id</th>\n",
       "      <th>separationtype</th>\n",
       "      <th>cease_date</th>\n",
       "      <th>dete_start_date</th>\n",
       "      <th>role_start_date</th>\n",
       "      <th>position</th>\n",
       "      <th>classification</th>\n",
       "      <th>region</th>\n",
       "      <th>business_unit</th>\n",
       "      <th>employment_status</th>\n",
       "      <th>...</th>\n",
       "      <th>none_of_the_above</th>\n",
       "      <th>gender</th>\n",
       "      <th>age</th>\n",
       "      <th>aboriginal</th>\n",
       "      <th>torres_strait</th>\n",
       "      <th>south_sea</th>\n",
       "      <th>disability</th>\n",
       "      <th>nesb</th>\n",
       "      <th>institute_service</th>\n",
       "      <th>institute</th>\n",
       "    </tr>\n",
       "  </thead>\n",
       "  <tbody>\n",
       "    <tr>\n",
       "      <th>3</th>\n",
       "      <td>4</td>\n",
       "      <td>Resignation-Other reasons</td>\n",
       "      <td>2012</td>\n",
       "      <td>2005</td>\n",
       "      <td>2006</td>\n",
       "      <td>Teacher</td>\n",
       "      <td>Primary</td>\n",
       "      <td>Central Queensland</td>\n",
       "      <td>NaN</td>\n",
       "      <td>Permanent Full-time</td>\n",
       "      <td>...</td>\n",
       "      <td>False</td>\n",
       "      <td>Female</td>\n",
       "      <td>36-40</td>\n",
       "      <td>NaN</td>\n",
       "      <td>NaN</td>\n",
       "      <td>NaN</td>\n",
       "      <td>NaN</td>\n",
       "      <td>NaN</td>\n",
       "      <td>7</td>\n",
       "      <td>DETE</td>\n",
       "    </tr>\n",
       "    <tr>\n",
       "      <th>5</th>\n",
       "      <td>6</td>\n",
       "      <td>Resignation-Other reasons</td>\n",
       "      <td>2012</td>\n",
       "      <td>1994</td>\n",
       "      <td>1997</td>\n",
       "      <td>Guidance Officer</td>\n",
       "      <td>NaN</td>\n",
       "      <td>Central Office</td>\n",
       "      <td>Education Queensland</td>\n",
       "      <td>Permanent Full-time</td>\n",
       "      <td>...</td>\n",
       "      <td>False</td>\n",
       "      <td>Female</td>\n",
       "      <td>41-45</td>\n",
       "      <td>NaN</td>\n",
       "      <td>NaN</td>\n",
       "      <td>NaN</td>\n",
       "      <td>NaN</td>\n",
       "      <td>NaN</td>\n",
       "      <td>18</td>\n",
       "      <td>DETE</td>\n",
       "    </tr>\n",
       "  </tbody>\n",
       "</table>\n",
       "<p>2 rows × 37 columns</p>\n",
       "</div>"
      ],
      "text/plain": [
       "   id             separationtype  cease_date  dete_start_date role_start_date  \\\n",
       "3   4  Resignation-Other reasons        2012             2005            2006   \n",
       "5   6  Resignation-Other reasons        2012             1994            1997   \n",
       "\n",
       "           position classification              region         business_unit  \\\n",
       "3           Teacher        Primary  Central Queensland                   NaN   \n",
       "5  Guidance Officer            NaN      Central Office  Education Queensland   \n",
       "\n",
       "     employment_status  ...  none_of_the_above  gender    age  aboriginal  \\\n",
       "3  Permanent Full-time  ...              False  Female  36-40         NaN   \n",
       "5  Permanent Full-time  ...              False  Female  41-45         NaN   \n",
       "\n",
       "   torres_strait  south_sea  disability  nesb  institute_service  institute  \n",
       "3            NaN        NaN         NaN   NaN                  7       DETE  \n",
       "5            NaN        NaN         NaN   NaN                 18       DETE  \n",
       "\n",
       "[2 rows x 37 columns]"
      ]
     },
     "execution_count": 67,
     "metadata": {},
     "output_type": "execute_result"
    }
   ],
   "source": [
    "dete_resignation_up.head(2)"
   ]
  },
  {
   "cell_type": "code",
   "execution_count": 68,
   "metadata": {},
   "outputs": [
    {
     "data": {
      "text/html": [
       "<div>\n",
       "<style scoped>\n",
       "    .dataframe tbody tr th:only-of-type {\n",
       "        vertical-align: middle;\n",
       "    }\n",
       "\n",
       "    .dataframe tbody tr th {\n",
       "        vertical-align: top;\n",
       "    }\n",
       "\n",
       "    .dataframe thead th {\n",
       "        text-align: right;\n",
       "    }\n",
       "</style>\n",
       "<table border=\"1\" class=\"dataframe\">\n",
       "  <thead>\n",
       "    <tr style=\"text-align: right;\">\n",
       "      <th></th>\n",
       "      <th>id</th>\n",
       "      <th>Institute</th>\n",
       "      <th>WorkArea</th>\n",
       "      <th>cease_date</th>\n",
       "      <th>separationtype</th>\n",
       "      <th>Contributing Factors. Career Move - Public Sector</th>\n",
       "      <th>Contributing Factors. Career Move - Private Sector</th>\n",
       "      <th>Contributing Factors. Career Move - Self-employment</th>\n",
       "      <th>Contributing Factors. Ill Health</th>\n",
       "      <th>Contributing Factors. Maternity/Family</th>\n",
       "      <th>...</th>\n",
       "      <th>Contributing Factors. Other</th>\n",
       "      <th>Contributing Factors. NONE</th>\n",
       "      <th>gender</th>\n",
       "      <th>age</th>\n",
       "      <th>employment_status</th>\n",
       "      <th>position</th>\n",
       "      <th>institute_service</th>\n",
       "      <th>role_service</th>\n",
       "      <th>dissatisfied</th>\n",
       "      <th>institute</th>\n",
       "    </tr>\n",
       "  </thead>\n",
       "  <tbody>\n",
       "    <tr>\n",
       "      <th>3</th>\n",
       "      <td>6.341399e+17</td>\n",
       "      <td>Mount Isa Institute of TAFE</td>\n",
       "      <td>Non-Delivery (corporate)</td>\n",
       "      <td>2010.0</td>\n",
       "      <td>Resignation</td>\n",
       "      <td>-</td>\n",
       "      <td>-</td>\n",
       "      <td>-</td>\n",
       "      <td>-</td>\n",
       "      <td>-</td>\n",
       "      <td>...</td>\n",
       "      <td>-</td>\n",
       "      <td>-</td>\n",
       "      <td>NaN</td>\n",
       "      <td>NaN</td>\n",
       "      <td>NaN</td>\n",
       "      <td>NaN</td>\n",
       "      <td>NaN</td>\n",
       "      <td>NaN</td>\n",
       "      <td>False</td>\n",
       "      <td>TAFE</td>\n",
       "    </tr>\n",
       "    <tr>\n",
       "      <th>4</th>\n",
       "      <td>6.341466e+17</td>\n",
       "      <td>Southern Queensland Institute of TAFE</td>\n",
       "      <td>Delivery (teaching)</td>\n",
       "      <td>2010.0</td>\n",
       "      <td>Resignation</td>\n",
       "      <td>-</td>\n",
       "      <td>Career Move - Private Sector</td>\n",
       "      <td>-</td>\n",
       "      <td>-</td>\n",
       "      <td>-</td>\n",
       "      <td>...</td>\n",
       "      <td>-</td>\n",
       "      <td>-</td>\n",
       "      <td>Male</td>\n",
       "      <td>41  45</td>\n",
       "      <td>Permanent Full-time</td>\n",
       "      <td>Teacher (including LVT)</td>\n",
       "      <td>3-4</td>\n",
       "      <td>3-4</td>\n",
       "      <td>False</td>\n",
       "      <td>TAFE</td>\n",
       "    </tr>\n",
       "  </tbody>\n",
       "</table>\n",
       "<p>2 rows × 25 columns</p>\n",
       "</div>"
      ],
      "text/plain": [
       "             id                              Institute  \\\n",
       "3  6.341399e+17            Mount Isa Institute of TAFE   \n",
       "4  6.341466e+17  Southern Queensland Institute of TAFE   \n",
       "\n",
       "                   WorkArea  cease_date separationtype  \\\n",
       "3  Non-Delivery (corporate)      2010.0    Resignation   \n",
       "4       Delivery (teaching)      2010.0    Resignation   \n",
       "\n",
       "  Contributing Factors. Career Move - Public Sector   \\\n",
       "3                                                  -   \n",
       "4                                                  -   \n",
       "\n",
       "  Contributing Factors. Career Move - Private Sector   \\\n",
       "3                                                  -    \n",
       "4                       Career Move - Private Sector    \n",
       "\n",
       "  Contributing Factors. Career Move - Self-employment  \\\n",
       "3                                                  -    \n",
       "4                                                  -    \n",
       "\n",
       "  Contributing Factors. Ill Health Contributing Factors. Maternity/Family  \\\n",
       "3                                -                                      -   \n",
       "4                                -                                      -   \n",
       "\n",
       "   ... Contributing Factors. Other Contributing Factors. NONE gender     age  \\\n",
       "3  ...                           -                          -    NaN     NaN   \n",
       "4  ...                           -                          -   Male  41  45   \n",
       "\n",
       "     employment_status                 position institute_service  \\\n",
       "3                  NaN                      NaN               NaN   \n",
       "4  Permanent Full-time  Teacher (including LVT)               3-4   \n",
       "\n",
       "  role_service dissatisfied institute  \n",
       "3          NaN        False      TAFE  \n",
       "4          3-4        False      TAFE  \n",
       "\n",
       "[2 rows x 25 columns]"
      ]
     },
     "execution_count": 68,
     "metadata": {},
     "output_type": "execute_result"
    }
   ],
   "source": [
    "tafe_resignation_up.head(2)"
   ]
  },
  {
   "cell_type": "code",
   "execution_count": 69,
   "metadata": {},
   "outputs": [
    {
     "data": {
      "text/plain": [
       "Index(['id', 'separationtype', 'cease_date', 'dete_start_date',\n",
       "       'role_start_date', 'position', 'classification', 'region',\n",
       "       'business_unit', 'employment_status', 'career_move_to_public_sector',\n",
       "       'career_move_to_private_sector', 'interpersonal_conflicts',\n",
       "       'job_dissatisfaction', 'dissatisfaction_with_the_department',\n",
       "       'physical_work_environment', 'lack_of_recognition',\n",
       "       'lack_of_job_security', 'work_location', 'employment_conditions',\n",
       "       'maternity/family', 'relocation', 'study/travel', 'ill_health',\n",
       "       'traumatic_incident', 'work_life_balance', 'workload',\n",
       "       'none_of_the_above', 'gender', 'age', 'aboriginal', 'torres_strait',\n",
       "       'south_sea', 'disability', 'nesb', 'institute_service', 'institute',\n",
       "       'Institute', 'WorkArea',\n",
       "       'Contributing Factors. Career Move - Public Sector ',\n",
       "       'Contributing Factors. Career Move - Private Sector ',\n",
       "       'Contributing Factors. Career Move - Self-employment',\n",
       "       'Contributing Factors. Ill Health',\n",
       "       'Contributing Factors. Maternity/Family',\n",
       "       'Contributing Factors. Dissatisfaction',\n",
       "       'Contributing Factors. Job Dissatisfaction',\n",
       "       'Contributing Factors. Interpersonal Conflict',\n",
       "       'Contributing Factors. Study', 'Contributing Factors. Travel',\n",
       "       'Contributing Factors. Other', 'Contributing Factors. NONE',\n",
       "       'role_service', 'dissatisfied'],\n",
       "      dtype='object')"
      ]
     },
     "execution_count": 69,
     "metadata": {},
     "output_type": "execute_result"
    }
   ],
   "source": [
    "# combine dataframes\n",
    "combined = pd.concat([dete_resignation_up,tafe_resignation_up], ignore_index=True)\n",
    "combined.head(2)\n",
    "combined.columns"
   ]
  },
  {
   "cell_type": "code",
   "execution_count": 70,
   "metadata": {},
   "outputs": [
    {
     "data": {
      "text/plain": [
       "Index(['id', 'separationtype', 'cease_date', 'position', 'employment_status',\n",
       "       'gender', 'age', 'institute_service', 'institute'],\n",
       "      dtype='object')"
      ]
     },
     "execution_count": 70,
     "metadata": {},
     "output_type": "execute_result"
    }
   ],
   "source": [
    "# drop cols with less than 500 non-null values with df.dropna()\n",
    "combined_updated = combined.dropna(thresh=500, axis=1).copy()\n",
    "combined_updated.head(2)\n",
    "combined_updated.columns\n"
   ]
  },
  {
   "cell_type": "markdown",
   "metadata": {},
   "source": [
    "#### Added `institute` col to identify original dataframe source, drop col with less than 500 non-null values to narrow dataset for analysis"
   ]
  },
  {
   "cell_type": "markdown",
   "metadata": {},
   "source": [
    "## 9. Clean the Service Column"
   ]
  },
  {
   "cell_type": "markdown",
   "metadata": {},
   "source": [
    "tafe_resignation['institute_service'].value_counts().sort_index()\n",
    "\n",
    "1-2                   64\n",
    "11-20                 26\n",
    "3-4                   63\n",
    "5-6                   33\n",
    "7-10                  21\n",
    "Less than 1 year      73\n",
    "More than 20 years    10"
   ]
  },
  {
   "cell_type": "markdown",
   "metadata": {},
   "source": [
    "#### `institute_service`\n",
    "- New: Less than 3 years at a company\n",
    "- Experienced: 3-6 years at a company\n",
    "- Established: 7-10 years at a company\n",
    "- Veteran: 11 or more years at a company\n"
   ]
  },
  {
   "cell_type": "code",
   "execution_count": 74,
   "metadata": {},
   "outputs": [
    {
     "data": {
      "text/plain": [
       "0.0        21\n",
       "1.0       159\n",
       "2.0        14\n",
       "3.0        83\n",
       "4.0        16\n",
       "5.0        56\n",
       "6.0        17\n",
       "7.0        34\n",
       "8.0         8\n",
       "9.0        14\n",
       "10.0        6\n",
       "11.0       30\n",
       "12.0        6\n",
       "13.0        8\n",
       "14.0        6\n",
       "15.0        7\n",
       "16.0        5\n",
       "17.0        6\n",
       "18.0        5\n",
       "19.0        3\n",
       "20.0       17\n",
       "21.0        3\n",
       "22.0        6\n",
       "23.0        4\n",
       "24.0        4\n",
       "25.0        2\n",
       "26.0        2\n",
       "27.0        1\n",
       "28.0        2\n",
       "29.0        1\n",
       "30.0        2\n",
       "31.0        1\n",
       "32.0        3\n",
       "33.0        1\n",
       "34.0        1\n",
       "35.0        1\n",
       "36.0        2\n",
       "38.0        1\n",
       "39.0        3\n",
       "41.0        1\n",
       "42.0        1\n",
       "49.0        1\n",
       "1984.0      1\n",
       "1987.0      1\n",
       "1990.0      1\n",
       "1995.0      1\n",
       "2000.0      1\n",
       "2005.0      1\n",
       "2006.0      1\n",
       "2007.0      1\n",
       "2011.0      1\n",
       "2012.0     15\n",
       "2013.0     13\n",
       "Name: institute_service_up, dtype: int64"
      ]
     },
     "execution_count": 74,
     "metadata": {},
     "output_type": "execute_result"
    }
   ],
   "source": [
    "# Extract the years of service and convert the type to float\n",
    "combined_updated['institute_service_up'] = combined_updated['institute_service'].astype('str').str.extract(r'(\\d+)')\n",
    "combined_updated['institute_service_up'] = combined_updated['institute_service_up'].astype('float')\n",
    "\n",
    "# Check the years extracted are correct\n",
    "combined_updated['institute_service_up'].value_counts().sort_index()"
   ]
  },
  {
   "cell_type": "markdown",
   "metadata": {},
   "source": [
    "Instructions  \n",
    "1. First, we'll extract the years of service from each value in the institute_service column.\n",
    "  - Use the Series.astype() method to change the type to 'str'.\n",
    "  - Use vectorized string methods to extract the years of service from each pattern. You can find the full list of vectorized string methods here.\n",
    "  - Double check that you didn't miss extracting any digits.\n",
    "  - Use the Series.astype() method to change the type to 'float'.\n",
    "2. Next, we'll map each value to one of the career stage definitions above.\n",
    "  - Create a function that maps each year value to one of the career stages above.\n",
    "    - Remember that you'll have to handle missing values separately. You can use the following code to check if a value is NaN where val is the name of the value: pd.isnull(val).\n",
    "  - Use the Series.apply() method to apply the function to the institute_service column. Assign the result to a new column named service_cat.\n",
    "3. Write a markdown paragraph explaining the changes you made and why."
   ]
  },
  {
   "cell_type": "code",
   "execution_count": null,
   "metadata": {},
   "outputs": [],
   "source": []
  },
  {
   "cell_type": "code",
   "execution_count": null,
   "metadata": {},
   "outputs": [],
   "source": []
  },
  {
   "cell_type": "markdown",
   "metadata": {},
   "source": [
    "## 10. Perform Initial Analysis"
   ]
  },
  {
   "cell_type": "markdown",
   "metadata": {},
   "source": [
    "Instructions\n",
    "1. Use the Series.value_counts() method to confirm the number of True and False values in the dissatisfied column. Set the dropna parameter to False to also confirm the number of missing values.\n",
    "2. Use the DataFrame.fillna() method to replace the missing values in the dissatisfied column with the value that occurs most frequently in this column, either True or False.\n",
    "3, Use the DataFrame.pivot_table() method to calculate the percentage of dissatisfied employees in each service_cat group.\n",
    "  - Since a True value is considered to be 1, calculating the mean will also calculate the percentage of dissatisfied employees. The default aggregation function is the mean, so you can exclude the aggfunc argument.\n",
    "4. Use the DataFrame.plot() method to plot the results. Set the kind parameter equal to bar to create a bar chart.\n",
    "  - Make sure to run %matplotlib inline beforehand to show your plots in the notebook.\n",
    "5. Write a markdown paragraph briefly describing your observations."
   ]
  },
  {
   "cell_type": "code",
   "execution_count": null,
   "metadata": {},
   "outputs": [],
   "source": []
  },
  {
   "cell_type": "code",
   "execution_count": null,
   "metadata": {},
   "outputs": [],
   "source": []
  },
  {
   "cell_type": "code",
   "execution_count": null,
   "metadata": {},
   "outputs": [],
   "source": []
  },
  {
   "cell_type": "markdown",
   "metadata": {},
   "source": [
    "## 11. Next Steps"
   ]
  },
  {
   "cell_type": "markdown",
   "metadata": {},
   "source": [
    "In this guided project, we experienced that in order to extract any meaningful insights from our data, we had to perform many data cleaning tasks. In order to create one visualization (and not even the final one), we completed the following tasks:\n",
    "\n",
    "Explored the data and figured out how to prepare it for analysis\n",
    "- Corrected some of the missing values\n",
    "- Dropped any data not needed for our analysis\n",
    "- Renamed our columns\n",
    "- Verified the quality of our data\n",
    "- Created a new institute_service column\n",
    "- Cleaned the Contributing Factors columns\n",
    "- Created a new column indicating if an employee resigned because they were dissatisfied in some way\n",
    "- Combined the data\n",
    "- Cleaned the institute_service column\n",
    "- Handled the missing values in the dissatisfied column\n",
    "- Aggregated the data\n",
    "\n",
    "Our work here is far from done! We recommend that you continue with the following steps:\n",
    "\n",
    "- Decide how to handle the rest of the missing values. Then, aggregate the data according to the service_cat column again. How many people in each career stage resigned due to some kind of dissatisfaction?\n",
    "- Clean the age column. How many people in each age group resigned due to some kind of dissatisfaction?\n",
    "- Instead of analyzing the survey results together, analyze each survey separately. Did more employees in the DETE survey or TAFE survey end their employment because they were dissatisfied in some way?\n",
    "- Format your project using Dataquest's project style guide."
   ]
  }
 ],
 "metadata": {
  "colab": {
   "collapsed_sections": [
    "1hydIRao9Px_",
    "Zci9TWGf3Df-",
    "avt0gp6h3DgA",
    "0IUprXSE3DgB",
    "12e2VF9L3aYR",
    "PW2knrscUgLp",
    "_55PUa4MSAm4"
   ],
   "provenance": []
  },
  "kernelspec": {
   "display_name": "base",
   "language": "python",
   "name": "python3"
  },
  "language_info": {
   "codemirror_mode": {
    "name": "ipython",
    "version": 3
   },
   "file_extension": ".py",
   "mimetype": "text/x-python",
   "name": "python",
   "nbconvert_exporter": "python",
   "pygments_lexer": "ipython3",
   "version": "3.10.9"
  }
 },
 "nbformat": 4,
 "nbformat_minor": 1
}
