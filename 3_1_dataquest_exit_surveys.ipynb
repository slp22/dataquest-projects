{
 "cells": [
  {
   "cell_type": "markdown",
   "metadata": {
    "collapsed": true,
    "id": "WsBVo0-m3Df8",
    "jupyter": {
     "outputs_hidden": true
    }
   },
   "source": [
    "# Clean and Analyze Employee Exit Surveys"
   ]
  },
  {
   "cell_type": "markdown",
   "metadata": {
    "id": "1hydIRao9Px_"
   },
   "source": [
    "## Introduction"
   ]
  },
  {
   "cell_type": "markdown",
   "metadata": {
    "id": "SlLuaQJS3Df-"
   },
   "source": [
    "dataset\n",
    "- exit surveys of employees from Queensland, Australia\n",
    "    - Department of Education, Training and Employment (DETE)\n",
    "    - Technical and Further Education (TAFE)\n",
    "    - encoded to UTF-8\n",
    "\n",
    "project goal\n",
    "- Are employes who only worked for the institutes for a short period of time resigning due to some kind of dissatisfaction?\n",
    "- What about the employees who have been there longer?\n",
    "- Are younger employees resigning due to some kind of dissatisfaction?\n",
    "- What about older employees?\n",
    "\n",
    "- combine results for both surveys to answer the quetions\n",
    "- use same survey template, but one customized some of the answers\n",
    "- no data dictionary available\n",
    "\n",
    "skills:\n",
    "- apply(), map()\n",
    "- fillna(), dropna(), drop()\n",
    "- melt()\n",
    "- concat(), merge()"
   ]
  },
  {
   "cell_type": "code",
   "execution_count": 3,
   "metadata": {
    "id": "9w9gOCoB3Df_"
   },
   "outputs": [],
   "source": [
    "import numpy as np\n",
    "import pandas as pd"
   ]
  },
  {
   "cell_type": "markdown",
   "metadata": {
    "id": "Zci9TWGf3Df-"
   },
   "source": [
    "## 1. The DETE and TAFE Survey Datasets"
   ]
  },
  {
   "cell_type": "markdown",
   "metadata": {
    "id": "Rm7pApws3Df-"
   },
   "source": [
    "`dete_survey.csv`\n",
    "* `ID` participant ID\n",
    "* `SeparationType` reason why employment ended\n",
    "* `Cease Date` year or month employment ended\n",
    "* `DETE Start Date` year employemnt started"
   ]
  },
  {
   "cell_type": "markdown",
   "metadata": {
    "id": "EfC0fc0W3Df-"
   },
   "source": [
    "`tafe_survey.csv`\n",
    "* `Record ID` participant ID\n",
    "* `Reason for ceasing employment`\n",
    "* `LengthofServiceOverall. Overall Length of Service at Institute (in years)` employment in years"
   ]
  },
  {
   "cell_type": "code",
   "execution_count": 53,
   "metadata": {
    "id": "npZGWQRS3Df_"
   },
   "outputs": [],
   "source": [
    "# read in and preview datasets\n",
    "dete_raw = pd.read_csv('/Users/slp22/code/dataquest projects/dete_survey.csv')\n",
    "tafe_raw = pd.read_csv('/Users/slp22/code/dataquest projects/tafe_survey.csv')"
   ]
  },
  {
   "cell_type": "markdown",
   "metadata": {
    "id": "avt0gp6h3DgA"
   },
   "source": [
    "### DETE"
   ]
  },
  {
   "cell_type": "code",
   "execution_count": 121,
   "metadata": {
    "colab": {
     "base_uri": "https://localhost:8080/",
     "height": 498
    },
    "id": "rRuGTvid3DgA",
    "outputId": "9b9a4717-5c85-4900-e201-1b8b50e92198"
   },
   "outputs": [],
   "source": [
    "# dete_raw.head()"
   ]
  },
  {
   "cell_type": "code",
   "execution_count": null,
   "metadata": {
    "id": "eos5-91i3DgA"
   },
   "outputs": [],
   "source": [
    "# dete_raw.info()"
   ]
  },
  {
   "cell_type": "code",
   "execution_count": null,
   "metadata": {
    "id": "DA_KLg2u3DgA"
   },
   "outputs": [],
   "source": [
    "# dete_raw.columns"
   ]
  },
  {
   "cell_type": "code",
   "execution_count": null,
   "metadata": {
    "id": "Kxm5n7Dd3DgB"
   },
   "outputs": [],
   "source": [
    "# dete_raw.isnull()"
   ]
  },
  {
   "cell_type": "code",
   "execution_count": null,
   "metadata": {
    "colab": {
     "base_uri": "https://localhost:8080/",
     "height": 397
    },
    "collapsed": true,
    "id": "7fM0hC0m3DgB",
    "outputId": "4e00bb73-1e9d-4bcf-d118-67bfecf01a48"
   },
   "outputs": [
    {
     "data": {
      "text/html": [
       "<div>\n",
       "<style scoped>\n",
       "    .dataframe tbody tr th:only-of-type {\n",
       "        vertical-align: middle;\n",
       "    }\n",
       "\n",
       "    .dataframe tbody tr th {\n",
       "        vertical-align: top;\n",
       "    }\n",
       "\n",
       "    .dataframe thead th {\n",
       "        text-align: right;\n",
       "    }\n",
       "</style>\n",
       "<table border=\"1\" class=\"dataframe\">\n",
       "  <thead>\n",
       "    <tr style=\"text-align: right;\">\n",
       "      <th></th>\n",
       "      <th>count</th>\n",
       "    </tr>\n",
       "    <tr>\n",
       "      <th>SeparationType</th>\n",
       "      <th></th>\n",
       "    </tr>\n",
       "  </thead>\n",
       "  <tbody>\n",
       "    <tr>\n",
       "      <th>Age Retirement</th>\n",
       "      <td>285</td>\n",
       "    </tr>\n",
       "    <tr>\n",
       "      <th>Resignation-Other reasons</th>\n",
       "      <td>150</td>\n",
       "    </tr>\n",
       "    <tr>\n",
       "      <th>Resignation-Other employer</th>\n",
       "      <td>91</td>\n",
       "    </tr>\n",
       "    <tr>\n",
       "      <th>Resignation-Move overseas/interstate</th>\n",
       "      <td>70</td>\n",
       "    </tr>\n",
       "    <tr>\n",
       "      <th>Voluntary Early Retirement (VER)</th>\n",
       "      <td>67</td>\n",
       "    </tr>\n",
       "    <tr>\n",
       "      <th>Ill Health Retirement</th>\n",
       "      <td>61</td>\n",
       "    </tr>\n",
       "    <tr>\n",
       "      <th>Other</th>\n",
       "      <td>49</td>\n",
       "    </tr>\n",
       "    <tr>\n",
       "      <th>Contract Expired</th>\n",
       "      <td>34</td>\n",
       "    </tr>\n",
       "    <tr>\n",
       "      <th>Termination</th>\n",
       "      <td>15</td>\n",
       "    </tr>\n",
       "  </tbody>\n",
       "</table>\n",
       "</div><br><label><b>dtype:</b> int64</label>"
      ],
      "text/plain": [
       "SeparationType\n",
       "Age Retirement                          285\n",
       "Resignation-Other reasons               150\n",
       "Resignation-Other employer               91\n",
       "Resignation-Move overseas/interstate     70\n",
       "Voluntary Early Retirement (VER)         67\n",
       "Ill Health Retirement                    61\n",
       "Other                                    49\n",
       "Contract Expired                         34\n",
       "Termination                              15\n",
       "Name: count, dtype: int64"
      ]
     },
     "execution_count": 28,
     "metadata": {},
     "output_type": "execute_result"
    }
   ],
   "source": [
    "# dete_raw['SeparationType'].value_counts()"
   ]
  },
  {
   "cell_type": "code",
   "execution_count": null,
   "metadata": {
    "colab": {
     "base_uri": "https://localhost:8080/",
     "height": 586
    },
    "collapsed": true,
    "id": "wYyX3lBV3DgB",
    "outputId": "354a6627-2678-4777-d492-be9c28f1b275"
   },
   "outputs": [
    {
     "data": {
      "text/html": [
       "<div>\n",
       "<style scoped>\n",
       "    .dataframe tbody tr th:only-of-type {\n",
       "        vertical-align: middle;\n",
       "    }\n",
       "\n",
       "    .dataframe tbody tr th {\n",
       "        vertical-align: top;\n",
       "    }\n",
       "\n",
       "    .dataframe thead th {\n",
       "        text-align: right;\n",
       "    }\n",
       "</style>\n",
       "<table border=\"1\" class=\"dataframe\">\n",
       "  <thead>\n",
       "    <tr style=\"text-align: right;\">\n",
       "      <th></th>\n",
       "      <th>count</th>\n",
       "    </tr>\n",
       "    <tr>\n",
       "      <th>Position</th>\n",
       "      <th></th>\n",
       "    </tr>\n",
       "  </thead>\n",
       "  <tbody>\n",
       "    <tr>\n",
       "      <th>Teacher</th>\n",
       "      <td>324</td>\n",
       "    </tr>\n",
       "    <tr>\n",
       "      <th>Teacher Aide</th>\n",
       "      <td>137</td>\n",
       "    </tr>\n",
       "    <tr>\n",
       "      <th>Public Servant</th>\n",
       "      <td>126</td>\n",
       "    </tr>\n",
       "    <tr>\n",
       "      <th>Cleaner</th>\n",
       "      <td>97</td>\n",
       "    </tr>\n",
       "    <tr>\n",
       "      <th>Head of Curriculum/Head of Special Education</th>\n",
       "      <td>38</td>\n",
       "    </tr>\n",
       "    <tr>\n",
       "      <th>Schools Officer</th>\n",
       "      <td>24</td>\n",
       "    </tr>\n",
       "    <tr>\n",
       "      <th>School Administrative Staff</th>\n",
       "      <td>16</td>\n",
       "    </tr>\n",
       "    <tr>\n",
       "      <th>Guidance Officer</th>\n",
       "      <td>12</td>\n",
       "    </tr>\n",
       "    <tr>\n",
       "      <th>Technical Officer</th>\n",
       "      <td>11</td>\n",
       "    </tr>\n",
       "    <tr>\n",
       "      <th>Other</th>\n",
       "      <td>7</td>\n",
       "    </tr>\n",
       "    <tr>\n",
       "      <th>Professional Officer</th>\n",
       "      <td>7</td>\n",
       "    </tr>\n",
       "    <tr>\n",
       "      <th>School Based Professional Staff (Therapist, nurse, etc)</th>\n",
       "      <td>5</td>\n",
       "    </tr>\n",
       "    <tr>\n",
       "      <th>School Principal</th>\n",
       "      <td>5</td>\n",
       "    </tr>\n",
       "    <tr>\n",
       "      <th>Deputy Principal</th>\n",
       "      <td>4</td>\n",
       "    </tr>\n",
       "    <tr>\n",
       "      <th>Business Service Manager</th>\n",
       "      <td>4</td>\n",
       "    </tr>\n",
       "  </tbody>\n",
       "</table>\n",
       "</div><br><label><b>dtype:</b> int64</label>"
      ],
      "text/plain": [
       "Position\n",
       "Teacher                                                    324\n",
       "Teacher Aide                                               137\n",
       "Public Servant                                             126\n",
       "Cleaner                                                     97\n",
       "Head of Curriculum/Head of Special Education                38\n",
       "Schools Officer                                             24\n",
       "School Administrative Staff                                 16\n",
       "Guidance Officer                                            12\n",
       "Technical Officer                                           11\n",
       "Other                                                        7\n",
       "Professional Officer                                         7\n",
       "School Based Professional Staff (Therapist, nurse, etc)      5\n",
       "School Principal                                             5\n",
       "Deputy Principal                                             4\n",
       "Business Service Manager                                     4\n",
       "Name: count, dtype: int64"
      ]
     },
     "execution_count": 29,
     "metadata": {},
     "output_type": "execute_result"
    }
   ],
   "source": [
    "# dete_raw['Position'].value_counts()"
   ]
  },
  {
   "cell_type": "code",
   "execution_count": null,
   "metadata": {
    "id": "1iwJxMSA3DgB"
   },
   "outputs": [],
   "source": [
    "# dete_raw['Classification'].value_counts()"
   ]
  },
  {
   "cell_type": "markdown",
   "metadata": {
    "id": "CgJ_Jy5z3DgB"
   },
   "source": [
    "**`dete_raw`**\n",
    "- RangeIndex: 822 entries, 0 to 821\n",
    "- Data columns (total 56 columns)\n",
    "- Dytpe: ID=int, others=object, bool\n",
    "- Non-Null: Business Unit, Aboriginal, Torres Strait, South Sea, Disability, NESB"
   ]
  },
  {
   "cell_type": "markdown",
   "metadata": {
    "id": "0IUprXSE3DgB"
   },
   "source": [
    "### TAFE"
   ]
  },
  {
   "cell_type": "code",
   "execution_count": 99,
   "metadata": {
    "colab": {
     "base_uri": "https://localhost:8080/",
     "height": 655
    },
    "id": "Nz9wTpn23DgB",
    "outputId": "f0ca3bdc-f89e-44c4-9521-61e8a80611a1"
   },
   "outputs": [],
   "source": [
    "# tafe_raw.head()"
   ]
  },
  {
   "cell_type": "code",
   "execution_count": null,
   "metadata": {
    "id": "KjlPwsH33DgB"
   },
   "outputs": [],
   "source": [
    "# tafe_raw.info()"
   ]
  },
  {
   "cell_type": "code",
   "execution_count": null,
   "metadata": {
    "id": "fI9kA5do3DgB"
   },
   "outputs": [],
   "source": [
    "# tafe_raw.columns"
   ]
  },
  {
   "cell_type": "code",
   "execution_count": null,
   "metadata": {
    "id": "nib7REww3DgB"
   },
   "outputs": [],
   "source": [
    "# tafe_raw.isnull()"
   ]
  },
  {
   "cell_type": "code",
   "execution_count": null,
   "metadata": {
    "colab": {
     "base_uri": "https://localhost:8080/",
     "height": 303
    },
    "collapsed": true,
    "id": "zXBufqBN3DgB",
    "outputId": "dbfb05ee-66a6-405d-9e75-f4bf8a1e4deb"
   },
   "outputs": [
    {
     "data": {
      "text/html": [
       "<div>\n",
       "<style scoped>\n",
       "    .dataframe tbody tr th:only-of-type {\n",
       "        vertical-align: middle;\n",
       "    }\n",
       "\n",
       "    .dataframe tbody tr th {\n",
       "        vertical-align: top;\n",
       "    }\n",
       "\n",
       "    .dataframe thead th {\n",
       "        text-align: right;\n",
       "    }\n",
       "</style>\n",
       "<table border=\"1\" class=\"dataframe\">\n",
       "  <thead>\n",
       "    <tr style=\"text-align: right;\">\n",
       "      <th></th>\n",
       "      <th>count</th>\n",
       "    </tr>\n",
       "    <tr>\n",
       "      <th>Reason for ceasing employment</th>\n",
       "      <th></th>\n",
       "    </tr>\n",
       "  </thead>\n",
       "  <tbody>\n",
       "    <tr>\n",
       "      <th>Resignation</th>\n",
       "      <td>340</td>\n",
       "    </tr>\n",
       "    <tr>\n",
       "      <th>Contract Expired</th>\n",
       "      <td>127</td>\n",
       "    </tr>\n",
       "    <tr>\n",
       "      <th>Retrenchment/ Redundancy</th>\n",
       "      <td>104</td>\n",
       "    </tr>\n",
       "    <tr>\n",
       "      <th>Retirement</th>\n",
       "      <td>82</td>\n",
       "    </tr>\n",
       "    <tr>\n",
       "      <th>Transfer</th>\n",
       "      <td>25</td>\n",
       "    </tr>\n",
       "    <tr>\n",
       "      <th>Termination</th>\n",
       "      <td>23</td>\n",
       "    </tr>\n",
       "  </tbody>\n",
       "</table>\n",
       "</div><br><label><b>dtype:</b> int64</label>"
      ],
      "text/plain": [
       "Reason for ceasing employment\n",
       "Resignation                 340\n",
       "Contract Expired            127\n",
       "Retrenchment/ Redundancy    104\n",
       "Retirement                   82\n",
       "Transfer                     25\n",
       "Termination                  23\n",
       "Name: count, dtype: int64"
      ]
     },
     "execution_count": 31,
     "metadata": {},
     "output_type": "execute_result"
    }
   ],
   "source": [
    "# tafe_raw['Reason for ceasing employment'].value_counts()"
   ]
  },
  {
   "cell_type": "code",
   "execution_count": null,
   "metadata": {
    "colab": {
     "base_uri": "https://localhost:8080/",
     "height": 272
    },
    "collapsed": true,
    "id": "oGUgVwCK3DgB",
    "outputId": "3e4b0993-e9ac-4a72-e5bb-30a6f9cc8607"
   },
   "outputs": [
    {
     "data": {
      "text/html": [
       "<div>\n",
       "<style scoped>\n",
       "    .dataframe tbody tr th:only-of-type {\n",
       "        vertical-align: middle;\n",
       "    }\n",
       "\n",
       "    .dataframe tbody tr th {\n",
       "        vertical-align: top;\n",
       "    }\n",
       "\n",
       "    .dataframe thead th {\n",
       "        text-align: right;\n",
       "    }\n",
       "</style>\n",
       "<table border=\"1\" class=\"dataframe\">\n",
       "  <thead>\n",
       "    <tr style=\"text-align: right;\">\n",
       "      <th></th>\n",
       "      <th>count</th>\n",
       "    </tr>\n",
       "    <tr>\n",
       "      <th>Employment Type. Employment Type</th>\n",
       "      <th></th>\n",
       "    </tr>\n",
       "  </thead>\n",
       "  <tbody>\n",
       "    <tr>\n",
       "      <th>Permanent Full-time</th>\n",
       "      <td>237</td>\n",
       "    </tr>\n",
       "    <tr>\n",
       "      <th>Temporary Full-time</th>\n",
       "      <td>177</td>\n",
       "    </tr>\n",
       "    <tr>\n",
       "      <th>Contract/casual</th>\n",
       "      <td>71</td>\n",
       "    </tr>\n",
       "    <tr>\n",
       "      <th>Permanent Part-time</th>\n",
       "      <td>59</td>\n",
       "    </tr>\n",
       "    <tr>\n",
       "      <th>Temporary Part-time</th>\n",
       "      <td>52</td>\n",
       "    </tr>\n",
       "  </tbody>\n",
       "</table>\n",
       "</div><br><label><b>dtype:</b> int64</label>"
      ],
      "text/plain": [
       "Employment Type. Employment Type\n",
       "Permanent Full-time    237\n",
       "Temporary Full-time    177\n",
       "Contract/casual         71\n",
       "Permanent Part-time     59\n",
       "Temporary Part-time     52\n",
       "Name: count, dtype: int64"
      ]
     },
     "execution_count": 32,
     "metadata": {},
     "output_type": "execute_result"
    }
   ],
   "source": [
    "# tafe_raw['Employment Type. Employment Type'].value_counts()"
   ]
  },
  {
   "cell_type": "code",
   "execution_count": null,
   "metadata": {
    "id": "DZ-H08HH3DgB"
   },
   "outputs": [],
   "source": [
    "# tafe_raw['Classification. Classification'].value_counts()"
   ]
  },
  {
   "cell_type": "markdown",
   "metadata": {
    "id": "YOC88X7W3DgB"
   },
   "source": [
    "**`tafe_raw`**\n",
    "- Record ID in scientific notation\n",
    "- Columns names are long, descriptive, repetitive\n",
    "- RangeIndex: 702 entries, 0 to 701\n",
    "- Data columns (total 72 columns)\n",
    "- Dtype: ID=int, others=object, cessation year=float\n",
    "- Non-Null: range 400-500 of 700 rows"
   ]
  },
  {
   "cell_type": "markdown",
   "metadata": {
    "id": "12e2VF9L3aYR"
   },
   "source": [
    "## 2. Identify Missing Values and Drop Unnecessary Columns"
   ]
  },
  {
   "cell_type": "code",
   "execution_count": 56,
   "metadata": {
    "id": "38yRgIxc3DgC"
   },
   "outputs": [],
   "source": [
    "# dete_raw = pd.read_csv('/dete_survey.csv', na_values=\"Not Stated\")\n",
    "dete_raw = pd.read_csv('/Users/slp22/code/dataquest projects/dete_survey.csv')"
   ]
  },
  {
   "cell_type": "code",
   "execution_count": 100,
   "metadata": {
    "colab": {
     "base_uri": "https://localhost:8080/",
     "height": 516
    },
    "id": "6Az0HKd53DgC",
    "outputId": "f600205d-650c-468a-d0e7-2308ff576c31"
   },
   "outputs": [],
   "source": [
    "#dete_raw drop columns [28:49] axis=1\n",
    "dete = dete_raw.drop(dete_raw.columns[28:49],axis=1)\n",
    "# dete.head()"
   ]
  },
  {
   "cell_type": "code",
   "execution_count": 101,
   "metadata": {
    "colab": {
     "base_uri": "https://localhost:8080/",
     "height": 533
    },
    "id": "pwwjmUQw3DgC",
    "outputId": "e8ce905a-0038-4222-d7fb-277b697141f8"
   },
   "outputs": [],
   "source": [
    "#tafe drop columns [17:66] axis=1\n",
    "tafe = tafe_raw.drop(tafe_raw.columns[17:66], axis=1)\n",
    "# tafe.head()"
   ]
  },
  {
   "cell_type": "markdown",
   "metadata": {
    "id": "Yu0siXjL74DG"
   },
   "source": [
    "### Dropped columns from `tafe` [28:39] and `dete` [17:66] that are not relevant to this analysis. And will make the data easier to work with.  "
   ]
  },
  {
   "cell_type": "markdown",
   "metadata": {
    "id": "s7gLVax88gup"
   },
   "source": [
    "## 3. Clean Column Names"
   ]
  },
  {
   "cell_type": "code",
   "execution_count": 102,
   "metadata": {
    "id": "TgkkYM8D8ieP"
   },
   "outputs": [],
   "source": [
    "dete_col = dete.columns\n",
    "# dete_col"
   ]
  },
  {
   "cell_type": "code",
   "execution_count": 103,
   "metadata": {
    "id": "2zvIk6r2DC6W"
   },
   "outputs": [],
   "source": [
    "tafe_col = tafe.columns\n",
    "# tafe_col"
   ]
  },
  {
   "cell_type": "markdown",
   "metadata": {
    "id": "PW2knrscUgLp"
   },
   "source": [
    "### 🧹 functions to clean up text"
   ]
  },
  {
   "cell_type": "code",
   "execution_count": 122,
   "metadata": {
    "id": "lTO32yfuAT3z"
   },
   "outputs": [],
   "source": [
    "# function to make each column name lowercase\n",
    "def lower(cols):\n",
    "    lower_cols = []\n",
    "    for c in cols:\n",
    "        lower_cols.append(c.lower())\n",
    "    return lower_cols"
   ]
  },
  {
   "cell_type": "code",
   "execution_count": 123,
   "metadata": {
    "colab": {
     "base_uri": "https://localhost:8080/"
    },
    "id": "NFkL0Y0_AT7q",
    "outputId": "77f3a37d-7085-42e1-acce-72f4e4c3e1c0"
   },
   "outputs": [],
   "source": [
    "# lower(dete_col)"
   ]
  },
  {
   "cell_type": "code",
   "execution_count": 124,
   "metadata": {
    "id": "Y0mrw7fl__4v"
   },
   "outputs": [],
   "source": [
    "# function to remove trailing whitespace from end of strings\n",
    "def spaceless(cols):\n",
    "    spaceless_cols = []\n",
    "    for c in cols:\n",
    "        spaceless_cols.append(c.rstrip())\n",
    "    return spaceless_cols"
   ]
  },
  {
   "cell_type": "code",
   "execution_count": 125,
   "metadata": {
    "colab": {
     "base_uri": "https://localhost:8080/"
    },
    "id": "KZyq4pkAEAQv",
    "outputId": "98c46c03-c0a7-4dee-c6ce-72b084645918"
   },
   "outputs": [],
   "source": [
    "# spaceless(dete_col)"
   ]
  },
  {
   "cell_type": "code",
   "execution_count": 126,
   "metadata": {
    "id": "GKtSn-5VETYc"
   },
   "outputs": [],
   "source": [
    "# function to replace space with underscore\n",
    "def replace_punctuation(cols):\n",
    "    underscore_cols = []\n",
    "    for c in cols:\n",
    "        new_c = c.replace(\" \", \"_\").replace(\".\", \"\").replace(\"-\", \"\")\n",
    "        underscore_cols.append(new_c)\n",
    "    return underscore_cols"
   ]
  },
  {
   "cell_type": "code",
   "execution_count": 127,
   "metadata": {
    "colab": {
     "base_uri": "https://localhost:8080/"
    },
    "id": "33GDc412E9s9",
    "outputId": "0c65a401-7bd4-4607-b6d8-07d4f89f5cfd"
   },
   "outputs": [],
   "source": [
    "# replace_punctuation(dete_col)"
   ]
  },
  {
   "cell_type": "markdown",
   "metadata": {
    "id": "_55PUa4MSAm4"
   },
   "source": [
    "### 🚫 apply clean up functions #1 (nested functions)"
   ]
  },
  {
   "cell_type": "code",
   "execution_count": 110,
   "metadata": {
    "id": "HtNL05-xFbQK"
   },
   "outputs": [],
   "source": [
    "# from types import new_class\n",
    "def clean_up(col):\n",
    "    new_cols = []\n",
    "\n",
    "# function to make each column name lowercase\n",
    "\n",
    "#   # function to remove trailing whitespace from end of strings\n",
    "#     def spaceless(new_cols):\n",
    "#         for c in new_cols:\n",
    "#             new_cols.append(c.rstrip())\n",
    "#         return new_cols\n",
    "\n",
    "#   # function to replace space with underscore\n",
    "#     def replace_punctuation(new_cols):\n",
    "#         for c in new_cols:\n",
    "#             new_c = c.replace(\" \", \"_\").replace(\".\", \"\").replace(\"-\", \"\")\n",
    "#             new_cols.append(new_c)\n",
    "#         return new_cols\n",
    "    # return lower(new_cols\n"
   ]
  },
  {
   "cell_type": "code",
   "execution_count": 111,
   "metadata": {},
   "outputs": [],
   "source": [
    "# # higer order function lesson\n",
    "\n",
    "# def generate_age_checker(min_age):\n",
    "#     def check_age(age):\n",
    "#         return age > min_age\n",
    "#     return check_age\n",
    "\n",
    "# check_min_18 = generate_age_checker(18)\n",
    "# check_min_21 = generate_age_checker(21)\n",
    "\n",
    "# print(check_min_18(20))\n",
    "# print(check_min_21(20))\n",
    "    "
   ]
  },
  {
   "cell_type": "markdown",
   "metadata": {
    "id": "aSH0lsCmT4h9"
   },
   "source": [
    "### ✅ apply clean up functions #2 (sequential)\n",
    "\n"
   ]
  },
  {
   "cell_type": "code",
   "execution_count": 112,
   "metadata": {
    "colab": {
     "base_uri": "https://localhost:8080/"
    },
    "id": "7Mqngaf-SuaT",
    "outputId": "e6ae8554-a095-432a-8822-95154d349b30"
   },
   "outputs": [],
   "source": [
    "# # appy lower, spaceless, and replace_punctuation functions for tafe_col\n",
    "# lower_tafe = lower(tafe_col)\n",
    "# spaceless_tafe = spaceless(lower_tafe)\n",
    "# clean_tafe_cols = replace_punctuation(spaceless_tafe)"
   ]
  },
  {
   "cell_type": "code",
   "execution_count": 113,
   "metadata": {
    "colab": {
     "base_uri": "https://localhost:8080/"
    },
    "id": "vqCq4HP1SIg5",
    "outputId": "d8b577f4-8ddc-4ee7-e0c9-7bd1d006101a"
   },
   "outputs": [],
   "source": [
    "# # appy lower, spaceless, and replace_punctuation functions for dete_col\n",
    "# lower_dete = lower(dete_col)\n",
    "# spaceless_dete = spaceless(lower_dete)\n",
    "# clean_dete_cols = replace_punctuation(spaceless_dete)"
   ]
  },
  {
   "cell_type": "markdown",
   "metadata": {},
   "source": [
    "### ✅ apply clean up functions #3 (nest func)"
   ]
  },
  {
   "cell_type": "code",
   "execution_count": 114,
   "metadata": {},
   "outputs": [],
   "source": [
    "# replace_punctuation(spaceless(lower(dete_col)))"
   ]
  },
  {
   "cell_type": "code",
   "execution_count": 115,
   "metadata": {},
   "outputs": [],
   "source": [
    "# replace_punctuation(spaceless(lower(tafe_col)))"
   ]
  },
  {
   "cell_type": "markdown",
   "metadata": {},
   "source": [
    "### ✅ apply clean up functions #4 (call func)"
   ]
  },
  {
   "cell_type": "code",
   "execution_count": 116,
   "metadata": {},
   "outputs": [],
   "source": [
    "# best practice\n",
    "def clean_up(col):\n",
    "    lowercased = lower(col)\n",
    "    without_spaces = spaceless(lowercased)\n",
    "    without_punctuation = replace_punctuation(without_spaces)\n",
    "    return without_punctuation"
   ]
  },
  {
   "cell_type": "code",
   "execution_count": 117,
   "metadata": {},
   "outputs": [],
   "source": [
    "new_dete_col = clean_up(dete_col)\n",
    "dete.columns = new_dete_col\n",
    "# dete.columns"
   ]
  },
  {
   "cell_type": "code",
   "execution_count": 118,
   "metadata": {
    "scrolled": true
   },
   "outputs": [],
   "source": [
    "# tafe.columns"
   ]
  },
  {
   "cell_type": "code",
   "execution_count": 119,
   "metadata": {},
   "outputs": [],
   "source": [
    "tafe.rename({'Record ID': 'id',\n",
    "             'CESSATION YEAR': 'cease_date',\n",
    "             'Reason for ceasing employment': 'separationtype',\n",
    "             'Gender. What is your Gender?': 'gender',\n",
    "             'CurrentAge. Current Age': 'age',\n",
    "             'Employment Type. Employment Type': 'employment_status',\n",
    "             'Classification. Classification': 'position',\n",
    "             'LengthofServiceOverall. Overall Length of Service at Institute (in years)': 'institute_service',\n",
    "             'LengthofServiceCurrent. Length of Service at current workplace (in years)': 'role_service'}, \n",
    "            axis='columns',\n",
    "           inplace=True)"
   ]
  },
  {
   "cell_type": "code",
   "execution_count": 120,
   "metadata": {},
   "outputs": [],
   "source": [
    "# tafe.head()"
   ]
  },
  {
   "cell_type": "markdown",
   "metadata": {},
   "source": [
    "### Renamaed col names to make it easier to call. "
   ]
  },
  {
   "cell_type": "markdown",
   "metadata": {},
   "source": [
    "## 4. Filter the Data"
   ]
  },
  {
   "cell_type": "code",
   "execution_count": null,
   "metadata": {},
   "outputs": [],
   "source": []
  }
 ],
 "metadata": {
  "colab": {
   "collapsed_sections": [
    "1hydIRao9Px_",
    "Zci9TWGf3Df-",
    "avt0gp6h3DgA",
    "0IUprXSE3DgB",
    "12e2VF9L3aYR",
    "PW2knrscUgLp",
    "_55PUa4MSAm4"
   ],
   "provenance": []
  },
  "kernelspec": {
   "display_name": "Python 3 (ipykernel)",
   "language": "python",
   "name": "python3"
  },
  "language_info": {
   "codemirror_mode": {
    "name": "ipython",
    "version": 3
   },
   "file_extension": ".py",
   "mimetype": "text/x-python",
   "name": "python",
   "nbconvert_exporter": "python",
   "pygments_lexer": "ipython3",
   "version": "3.10.9"
  }
 },
 "nbformat": 4,
 "nbformat_minor": 1
}
