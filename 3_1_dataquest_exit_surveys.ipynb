{
 "cells": [
  {
   "cell_type": "markdown",
   "metadata": {
    "collapsed": true,
    "id": "WsBVo0-m3Df8",
    "jupyter": {
     "outputs_hidden": true
    }
   },
   "source": [
    "# Clean and Analyze Employee Exit Surveys"
   ]
  },
  {
   "cell_type": "markdown",
   "metadata": {
    "id": "1hydIRao9Px_"
   },
   "source": [
    "## Introduction"
   ]
  },
  {
   "cell_type": "markdown",
   "metadata": {
    "id": "SlLuaQJS3Df-"
   },
   "source": [
    "dataset\n",
    "- exit surveys of employees from Queensland, Australia\n",
    "    - Department of Education, Training and Employment (DETE)\n",
    "    - Technical and Further Education (TAFE)\n",
    "    - encoded to UTF-8\n",
    "\n",
    "project goal\n",
    "- Are employes who only worked for the institutes for a short period of time resigning due to some kind of dissatisfaction?\n",
    "- What about the employees who have been there longer?\n",
    "- Are younger employees resigning due to some kind of dissatisfaction?\n",
    "- What about older employees?\n",
    "\n",
    "- combine results for both surveys to answer the quetions\n",
    "- use same survey template, but one customized some of the answers\n",
    "- no data dictionary available\n",
    "\n",
    "skills:\n",
    "- apply(), map()\n",
    "- fillna(), dropna(), drop()\n",
    "- melt()\n",
    "- concat(), merge()"
   ]
  },
  {
   "cell_type": "code",
   "execution_count": 1,
   "metadata": {
    "id": "9w9gOCoB3Df_"
   },
   "outputs": [],
   "source": [
    "import numpy as np\n",
    "import pandas as pd"
   ]
  },
  {
   "cell_type": "markdown",
   "metadata": {
    "id": "Zci9TWGf3Df-"
   },
   "source": [
    "## 1. The DETE and TAFE Survey Datasets"
   ]
  },
  {
   "cell_type": "markdown",
   "metadata": {
    "id": "Rm7pApws3Df-"
   },
   "source": [
    "`dete_survey.csv`\n",
    "* `ID` participant ID\n",
    "* `SeparationType` reason why employment ended\n",
    "* `Cease Date` year or month employment ended\n",
    "* `DETE Start Date` year employemnt started"
   ]
  },
  {
   "cell_type": "markdown",
   "metadata": {
    "id": "EfC0fc0W3Df-"
   },
   "source": [
    "`tafe_survey.csv`\n",
    "* `Record ID` participant ID\n",
    "* `Reason for ceasing employment`\n",
    "* `LengthofServiceOverall. Overall Length of Service at Institute (in years)` employment in years"
   ]
  },
  {
   "cell_type": "code",
   "execution_count": 2,
   "metadata": {
    "id": "npZGWQRS3Df_"
   },
   "outputs": [],
   "source": [
    "# read in and preview datasets\n",
    "dete_raw = pd.read_csv('/Users/slp22/code/dataquest projects/dete_survey.csv')\n",
    "tafe_raw = pd.read_csv('/Users/slp22/code/dataquest projects/tafe_survey.csv')"
   ]
  },
  {
   "cell_type": "markdown",
   "metadata": {
    "id": "avt0gp6h3DgA"
   },
   "source": [
    "### DETE"
   ]
  },
  {
   "cell_type": "code",
   "execution_count": 3,
   "metadata": {
    "colab": {
     "base_uri": "https://localhost:8080/",
     "height": 498
    },
    "id": "rRuGTvid3DgA",
    "outputId": "9b9a4717-5c85-4900-e201-1b8b50e92198"
   },
   "outputs": [],
   "source": [
    "# dete_raw.head()"
   ]
  },
  {
   "cell_type": "code",
   "execution_count": 4,
   "metadata": {
    "id": "eos5-91i3DgA"
   },
   "outputs": [],
   "source": [
    "# dete_raw.info()"
   ]
  },
  {
   "cell_type": "code",
   "execution_count": 5,
   "metadata": {
    "id": "DA_KLg2u3DgA"
   },
   "outputs": [],
   "source": [
    "# dete_raw.columns"
   ]
  },
  {
   "cell_type": "code",
   "execution_count": 6,
   "metadata": {
    "id": "Kxm5n7Dd3DgB"
   },
   "outputs": [],
   "source": [
    "# dete_raw.isnull()"
   ]
  },
  {
   "cell_type": "code",
   "execution_count": 7,
   "metadata": {
    "colab": {
     "base_uri": "https://localhost:8080/",
     "height": 397
    },
    "id": "7fM0hC0m3DgB",
    "outputId": "4e00bb73-1e9d-4bcf-d118-67bfecf01a48"
   },
   "outputs": [],
   "source": [
    "# dete_raw['SeparationType'].value_counts()"
   ]
  },
  {
   "cell_type": "code",
   "execution_count": 8,
   "metadata": {
    "colab": {
     "base_uri": "https://localhost:8080/",
     "height": 586
    },
    "id": "wYyX3lBV3DgB",
    "outputId": "354a6627-2678-4777-d492-be9c28f1b275"
   },
   "outputs": [],
   "source": [
    "# dete_raw['Position'].value_counts()"
   ]
  },
  {
   "cell_type": "code",
   "execution_count": 9,
   "metadata": {
    "id": "1iwJxMSA3DgB"
   },
   "outputs": [],
   "source": [
    "# dete_raw['Classification'].value_counts()"
   ]
  },
  {
   "cell_type": "markdown",
   "metadata": {
    "id": "CgJ_Jy5z3DgB"
   },
   "source": [
    "**`dete_raw`**\n",
    "- RangeIndex: 822 entries, 0 to 821\n",
    "- Data columns (total 56 columns)\n",
    "- Dytpe: ID=int, others=object, bool\n",
    "- Non-Null: Business Unit, Aboriginal, Torres Strait, South Sea, Disability, NESB"
   ]
  },
  {
   "cell_type": "markdown",
   "metadata": {
    "id": "0IUprXSE3DgB"
   },
   "source": [
    "### TAFE"
   ]
  },
  {
   "cell_type": "code",
   "execution_count": 10,
   "metadata": {
    "colab": {
     "base_uri": "https://localhost:8080/",
     "height": 655
    },
    "id": "Nz9wTpn23DgB",
    "outputId": "f0ca3bdc-f89e-44c4-9521-61e8a80611a1"
   },
   "outputs": [],
   "source": [
    "# tafe_raw.head()"
   ]
  },
  {
   "cell_type": "code",
   "execution_count": 11,
   "metadata": {
    "id": "KjlPwsH33DgB"
   },
   "outputs": [],
   "source": [
    "# tafe_raw.info()"
   ]
  },
  {
   "cell_type": "code",
   "execution_count": 12,
   "metadata": {
    "id": "fI9kA5do3DgB"
   },
   "outputs": [],
   "source": [
    "# tafe_raw.columns"
   ]
  },
  {
   "cell_type": "code",
   "execution_count": 13,
   "metadata": {
    "id": "nib7REww3DgB"
   },
   "outputs": [],
   "source": [
    "# tafe_raw.isnull()"
   ]
  },
  {
   "cell_type": "code",
   "execution_count": 14,
   "metadata": {
    "colab": {
     "base_uri": "https://localhost:8080/",
     "height": 303
    },
    "id": "zXBufqBN3DgB",
    "outputId": "dbfb05ee-66a6-405d-9e75-f4bf8a1e4deb"
   },
   "outputs": [],
   "source": [
    "# tafe_raw['Reason for ceasing employment'].value_counts()"
   ]
  },
  {
   "cell_type": "code",
   "execution_count": 15,
   "metadata": {
    "colab": {
     "base_uri": "https://localhost:8080/",
     "height": 272
    },
    "id": "oGUgVwCK3DgB",
    "outputId": "3e4b0993-e9ac-4a72-e5bb-30a6f9cc8607"
   },
   "outputs": [],
   "source": [
    "# tafe_raw['Employment Type. Employment Type'].value_counts()"
   ]
  },
  {
   "cell_type": "code",
   "execution_count": 16,
   "metadata": {
    "id": "DZ-H08HH3DgB"
   },
   "outputs": [],
   "source": [
    "# tafe_raw['Classification. Classification'].value_counts()"
   ]
  },
  {
   "cell_type": "markdown",
   "metadata": {
    "id": "YOC88X7W3DgB"
   },
   "source": [
    "**`tafe_raw`**\n",
    "- Record ID in scientific notation\n",
    "- Columns names are long, descriptive, repetitive\n",
    "- RangeIndex: 702 entries, 0 to 701\n",
    "- Data columns (total 72 columns)\n",
    "- Dtype: ID=int, others=object, cessation year=float\n",
    "- Non-Null: range 400-500 of 700 rows"
   ]
  },
  {
   "cell_type": "markdown",
   "metadata": {
    "id": "12e2VF9L3aYR"
   },
   "source": [
    "## 2. Identify Missing Values and Drop Unnecessary Columns"
   ]
  },
  {
   "cell_type": "code",
   "execution_count": 17,
   "metadata": {
    "id": "38yRgIxc3DgC"
   },
   "outputs": [],
   "source": [
    "# dete_raw = pd.read_csv('/dete_survey.csv', na_values=\"Not Stated\")\n",
    "dete_raw = pd.read_csv('/Users/slp22/code/dataquest projects/dete_survey.csv')"
   ]
  },
  {
   "cell_type": "code",
   "execution_count": 18,
   "metadata": {
    "colab": {
     "base_uri": "https://localhost:8080/",
     "height": 516
    },
    "id": "6Az0HKd53DgC",
    "outputId": "f600205d-650c-468a-d0e7-2308ff576c31"
   },
   "outputs": [],
   "source": [
    "#dete_raw drop columns [28:49] axis=1\n",
    "dete = dete_raw.drop(dete_raw.columns[28:49],axis=1)\n",
    "# dete.head()"
   ]
  },
  {
   "cell_type": "code",
   "execution_count": 19,
   "metadata": {
    "colab": {
     "base_uri": "https://localhost:8080/",
     "height": 533
    },
    "id": "pwwjmUQw3DgC",
    "outputId": "e8ce905a-0038-4222-d7fb-277b697141f8"
   },
   "outputs": [],
   "source": [
    "#tafe drop columns [17:66] axis=1\n",
    "tafe = tafe_raw.drop(tafe_raw.columns[17:66], axis=1)\n",
    "# tafe.head()"
   ]
  },
  {
   "cell_type": "markdown",
   "metadata": {
    "id": "Yu0siXjL74DG"
   },
   "source": [
    "### Dropped columns from `tafe` [28:39] and `dete` [17:66] that are not relevant to this analysis. And will make the data easier to work with.  "
   ]
  },
  {
   "cell_type": "markdown",
   "metadata": {
    "id": "s7gLVax88gup"
   },
   "source": [
    "## 3. Clean Column Names"
   ]
  },
  {
   "cell_type": "code",
   "execution_count": 20,
   "metadata": {
    "id": "TgkkYM8D8ieP"
   },
   "outputs": [],
   "source": [
    "dete_col = dete.columns\n",
    "# dete_col"
   ]
  },
  {
   "cell_type": "code",
   "execution_count": 21,
   "metadata": {
    "id": "2zvIk6r2DC6W"
   },
   "outputs": [],
   "source": [
    "tafe_col = tafe.columns\n",
    "# tafe_col"
   ]
  },
  {
   "cell_type": "markdown",
   "metadata": {
    "id": "PW2knrscUgLp"
   },
   "source": [
    "### 🧹 functions to clean up text"
   ]
  },
  {
   "cell_type": "code",
   "execution_count": 22,
   "metadata": {
    "id": "lTO32yfuAT3z"
   },
   "outputs": [],
   "source": [
    "# function to make each column name lowercase\n",
    "def lower(cols):\n",
    "    lower_cols = []\n",
    "    for c in cols:\n",
    "        lower_cols.append(c.lower())\n",
    "    return lower_cols"
   ]
  },
  {
   "cell_type": "code",
   "execution_count": 23,
   "metadata": {
    "id": "Y0mrw7fl__4v"
   },
   "outputs": [],
   "source": [
    "# function to remove trailing whitespace from end of strings\n",
    "def spaceless(cols):\n",
    "    spaceless_cols = []\n",
    "    for c in cols:\n",
    "        spaceless_cols.append(c.rstrip())\n",
    "    return spaceless_cols"
   ]
  },
  {
   "cell_type": "code",
   "execution_count": 24,
   "metadata": {
    "id": "GKtSn-5VETYc"
   },
   "outputs": [],
   "source": [
    "# function to replace space with underscore\n",
    "def replace_punctuation(cols):\n",
    "    underscore_cols = []\n",
    "    for c in cols:\n",
    "        new_c = c.replace(\" \", \"_\").replace(\".\", \"\").replace(\"-\", \"\")\n",
    "        underscore_cols.append(new_c)\n",
    "    return underscore_cols"
   ]
  },
  {
   "cell_type": "markdown",
   "metadata": {
    "id": "_55PUa4MSAm4"
   },
   "source": [
    "### 🚫 apply clean up functions #1 (nested functions)"
   ]
  },
  {
   "cell_type": "code",
   "execution_count": 25,
   "metadata": {
    "id": "HtNL05-xFbQK"
   },
   "outputs": [],
   "source": [
    "# from types import new_class\n",
    "def clean_up(col):\n",
    "    new_cols = []\n",
    "\n",
    "# function to make each column name lowercase\n",
    "\n",
    "#   # function to remove trailing whitespace from end of strings\n",
    "#     def spaceless(new_cols):\n",
    "#         for c in new_cols:\n",
    "#             new_cols.append(c.rstrip())\n",
    "#         return new_cols\n",
    "\n",
    "#   # function to replace space with underscore\n",
    "#     def replace_punctuation(new_cols):\n",
    "#         for c in new_cols:\n",
    "#             new_c = c.replace(\" \", \"_\").replace(\".\", \"\").replace(\"-\", \"\")\n",
    "#             new_cols.append(new_c)\n",
    "#         return new_cols\n",
    "    # return lower(new_cols\n"
   ]
  },
  {
   "cell_type": "code",
   "execution_count": 26,
   "metadata": {},
   "outputs": [],
   "source": [
    "# # higer order function lesson\n",
    "\n",
    "# def generate_age_checker(min_age):\n",
    "#     def check_age(age):\n",
    "#         return age > min_age\n",
    "#     return check_age\n",
    "\n",
    "# check_min_18 = generate_age_checker(18)\n",
    "# check_min_21 = generate_age_checker(21)\n",
    "\n",
    "# print(check_min_18(20))\n",
    "# print(check_min_21(20))\n",
    "    "
   ]
  },
  {
   "cell_type": "markdown",
   "metadata": {
    "id": "aSH0lsCmT4h9"
   },
   "source": [
    "### ✅ apply clean up functions #2 (sequential)\n",
    "\n"
   ]
  },
  {
   "cell_type": "code",
   "execution_count": 27,
   "metadata": {
    "colab": {
     "base_uri": "https://localhost:8080/"
    },
    "id": "7Mqngaf-SuaT",
    "outputId": "e6ae8554-a095-432a-8822-95154d349b30"
   },
   "outputs": [],
   "source": [
    "# # appy lower, spaceless, and replace_punctuation functions for tafe_col\n",
    "# lower_tafe = lower(tafe_col)\n",
    "# spaceless_tafe = spaceless(lower_tafe)\n",
    "# clean_tafe_cols = replace_punctuation(spaceless_tafe)"
   ]
  },
  {
   "cell_type": "code",
   "execution_count": 28,
   "metadata": {
    "colab": {
     "base_uri": "https://localhost:8080/"
    },
    "id": "vqCq4HP1SIg5",
    "outputId": "d8b577f4-8ddc-4ee7-e0c9-7bd1d006101a"
   },
   "outputs": [],
   "source": [
    "# # appy lower, spaceless, and replace_punctuation functions for dete_col\n",
    "# lower_dete = lower(dete_col)\n",
    "# spaceless_dete = spaceless(lower_dete)\n",
    "# clean_dete_cols = replace_punctuation(spaceless_dete)"
   ]
  },
  {
   "cell_type": "markdown",
   "metadata": {},
   "source": [
    "### ✅ apply clean up functions #3 (nest func)"
   ]
  },
  {
   "cell_type": "code",
   "execution_count": 29,
   "metadata": {},
   "outputs": [],
   "source": [
    "# replace_punctuation(spaceless(lower(dete_col)))"
   ]
  },
  {
   "cell_type": "code",
   "execution_count": 30,
   "metadata": {},
   "outputs": [],
   "source": [
    "# replace_punctuation(spaceless(lower(tafe_col)))"
   ]
  },
  {
   "cell_type": "markdown",
   "metadata": {},
   "source": [
    "### ✅ apply clean up functions #4 (call func)"
   ]
  },
  {
   "cell_type": "code",
   "execution_count": 31,
   "metadata": {},
   "outputs": [],
   "source": [
    "# best practice\n",
    "def clean_up(col):\n",
    "    lowercased = lower(col)\n",
    "    without_spaces = spaceless(lowercased)\n",
    "    without_punctuation = replace_punctuation(without_spaces)\n",
    "    return without_punctuation"
   ]
  },
  {
   "cell_type": "code",
   "execution_count": 32,
   "metadata": {},
   "outputs": [
    {
     "data": {
      "text/plain": [
       "Index(['id', 'separationtype', 'cease_date', 'dete_start_date',\n",
       "       'role_start_date', 'position', 'classification', 'region',\n",
       "       'business_unit', 'employment_status', 'career_move_to_public_sector',\n",
       "       'career_move_to_private_sector', 'interpersonal_conflicts',\n",
       "       'job_dissatisfaction', 'dissatisfaction_with_the_department',\n",
       "       'physical_work_environment', 'lack_of_recognition',\n",
       "       'lack_of_job_security', 'work_location', 'employment_conditions',\n",
       "       'maternity/family', 'relocation', 'study/travel', 'ill_health',\n",
       "       'traumatic_incident', 'work_life_balance', 'workload',\n",
       "       'none_of_the_above', 'gender', 'age', 'aboriginal', 'torres_strait',\n",
       "       'south_sea', 'disability', 'nesb'],\n",
       "      dtype='object')"
      ]
     },
     "execution_count": 32,
     "metadata": {},
     "output_type": "execute_result"
    }
   ],
   "source": [
    "new_dete_col = clean_up(dete_col)\n",
    "dete.columns = new_dete_col\n",
    "dete.columns"
   ]
  },
  {
   "cell_type": "code",
   "execution_count": 33,
   "metadata": {
    "scrolled": true
   },
   "outputs": [],
   "source": [
    "# tafe.columns"
   ]
  },
  {
   "cell_type": "code",
   "execution_count": 34,
   "metadata": {},
   "outputs": [],
   "source": [
    "tafe.rename({'Record ID': 'id',\n",
    "             'CESSATION YEAR': 'cease_date',\n",
    "             'Reason for ceasing employment': 'separationtype',\n",
    "             'Gender. What is your Gender?': 'gender',\n",
    "             'CurrentAge. Current Age': 'age',\n",
    "             'Employment Type. Employment Type': 'employment_status',\n",
    "             'Classification. Classification': 'position',\n",
    "             'LengthofServiceOverall. Overall Length of Service at Institute (in years)': 'institute_service',\n",
    "             'LengthofServiceCurrent. Length of Service at current workplace (in years)': 'role_service'}, \n",
    "            axis='columns',\n",
    "           inplace=True)"
   ]
  },
  {
   "cell_type": "code",
   "execution_count": 35,
   "metadata": {},
   "outputs": [],
   "source": [
    "# tafe.head()"
   ]
  },
  {
   "cell_type": "markdown",
   "metadata": {},
   "source": [
    "### Renamed col names to make it easier to call. "
   ]
  },
  {
   "cell_type": "markdown",
   "metadata": {},
   "source": [
    "## 4. Filter the Data"
   ]
  },
  {
   "cell_type": "markdown",
   "metadata": {},
   "source": [
    "*Filter data to answer*\n",
    "- Are employees who have only worked for the institutes for a short period of time resigning due to some kind of dissatisfaction? \n",
    "- What about employees who have been at the job longer?"
   ]
  },
  {
   "cell_type": "code",
   "execution_count": 36,
   "metadata": {},
   "outputs": [
    {
     "data": {
      "text/plain": [
       "array(['Ill Health Retirement', 'Voluntary Early Retirement (VER)',\n",
       "       'Resignation-Other reasons', 'Age Retirement',\n",
       "       'Resignation-Other employer',\n",
       "       'Resignation-Move overseas/interstate', 'Other',\n",
       "       'Contract Expired', 'Termination'], dtype=object)"
      ]
     },
     "execution_count": 36,
     "metadata": {},
     "output_type": "execute_result"
    }
   ],
   "source": [
    "dete['separationtype'].unique() #'Resignation-Other reasons'\n",
    "                                #'Resignation-Other employer'\n",
    "                                #'Resignation-Move overseas/interstate'"
   ]
  },
  {
   "cell_type": "code",
   "execution_count": 37,
   "metadata": {},
   "outputs": [
    {
     "data": {
      "text/plain": [
       "array(['Contract Expired', 'Retirement', 'Resignation',\n",
       "       'Retrenchment/ Redundancy', 'Termination', 'Transfer', nan],\n",
       "      dtype=object)"
      ]
     },
     "execution_count": 37,
     "metadata": {},
     "output_type": "execute_result"
    }
   ],
   "source": [
    "tafe['separationtype'].unique() #'Resignation'"
   ]
  },
  {
   "cell_type": "markdown",
   "metadata": {},
   "source": [
    "### `separationtype`\n",
    "\n",
    "- `dete`\n",
    "    - `Resignation-Other reasons`\n",
    "    - `Resignation-Other employer`\n",
    "    - `Resignation-Move overseas/interstate`\n",
    "- `tafe`\n",
    "    - `Resignation`"
   ]
  },
  {
   "cell_type": "code",
   "execution_count": 38,
   "metadata": {},
   "outputs": [
    {
     "name": "stdout",
     "output_type": "stream",
     "text": [
      "dete.shape (822, 35)\n",
      "tafe.shape (702, 23)\n"
     ]
    }
   ],
   "source": [
    "# #copy datasets\n",
    "# dete.copy()\n",
    "# tafe.copy()\n",
    "\n",
    "print('dete.shape', dete.shape)\n",
    "print('tafe.shape', tafe.shape)"
   ]
  },
  {
   "cell_type": "code",
   "execution_count": 39,
   "metadata": {},
   "outputs": [],
   "source": [
    "# Filter for resignation types\n",
    "dete_resignation = dete.loc[(dete['separationtype'] == 'Resignation-Other reasons') | \n",
    "                             (dete['separationtype'] =='Resignation-Other employer') | \n",
    "                             (dete['separationtype'] == 'Resignation-Move overseas/interstate')]"
   ]
  },
  {
   "cell_type": "code",
   "execution_count": 40,
   "metadata": {},
   "outputs": [],
   "source": [
    "# Filter for resignation\n",
    "tafe_resignation = tafe[tafe['separationtype'] == 'Resignation']"
   ]
  },
  {
   "cell_type": "code",
   "execution_count": 41,
   "metadata": {},
   "outputs": [
    {
     "name": "stdout",
     "output_type": "stream",
     "text": [
      "dete_resignation.shape (311, 35)\n",
      "tafe_resignation.shape (340, 23)\n"
     ]
    }
   ],
   "source": [
    "print('dete_resignation.shape', dete_resignation.shape)\n",
    "print('tafe_resignation.shape', tafe_resignation.shape)"
   ]
  },
  {
   "cell_type": "markdown",
   "metadata": {},
   "source": [
    "### Filtered for resignations only to answer question; filtered out 50% irrelevant data. "
   ]
  },
  {
   "cell_type": "markdown",
   "metadata": {},
   "source": [
    "## 5. Verify the Data"
   ]
  },
  {
   "cell_type": "code",
   "execution_count": 42,
   "metadata": {},
   "outputs": [],
   "source": [
    "# function to clean up date columns by extracting the year from MM/YYYY or replacing 'Not Stated' with 0. \n",
    "def extract_year(cease_date):\n",
    "    years = []\n",
    "    for i in cease_date:\n",
    "        if i == 'Not Stated':\n",
    "            years.append(0) \n",
    "        elif len(i) == 7:\n",
    "            years.append(int(i[3:7]))\n",
    "        else:\n",
    "            years.append(int(i))\n",
    "\n",
    "    return years"
   ]
  },
  {
   "cell_type": "markdown",
   "metadata": {},
   "source": [
    "### Dete Resignation Years"
   ]
  },
  {
   "cell_type": "code",
   "execution_count": 43,
   "metadata": {},
   "outputs": [
    {
     "data": {
      "text/plain": [
       "01/2014        22\n",
       "05/2012         2\n",
       "05/2013         2\n",
       "06/2013        14\n",
       "07/2006         1\n",
       "07/2012         1\n",
       "07/2013         9\n",
       "08/2013         4\n",
       "09/2010         1\n",
       "09/2013        11\n",
       "10/2013         6\n",
       "11/2013         9\n",
       "12/2013        17\n",
       "2010            1\n",
       "2012          126\n",
       "2013           74\n",
       "Not Stated     11\n",
       "Name: cease_date, dtype: int64"
      ]
     },
     "execution_count": 43,
     "metadata": {},
     "output_type": "execute_result"
    }
   ],
   "source": [
    "# before `cease_date`\n",
    "dete_resignation['cease_date'].value_counts().sort_index(ascending=True)"
   ]
  },
  {
   "cell_type": "code",
   "execution_count": 44,
   "metadata": {},
   "outputs": [
    {
     "data": {
      "text/plain": [
       "[2012,\n",
       " 2012,\n",
       " 2012,\n",
       " 2012,\n",
       " 2012,\n",
       " 2012,\n",
       " 2012,\n",
       " 2012,\n",
       " 2012,\n",
       " 2012,\n",
       " 2012,\n",
       " 2012,\n",
       " 2012,\n",
       " 2012,\n",
       " 2012,\n",
       " 2012,\n",
       " 2012,\n",
       " 2012,\n",
       " 2012,\n",
       " 2012,\n",
       " 2012,\n",
       " 2012,\n",
       " 2012,\n",
       " 2012,\n",
       " 2012,\n",
       " 2012,\n",
       " 2012,\n",
       " 2012,\n",
       " 2012,\n",
       " 2012,\n",
       " 2012,\n",
       " 2012,\n",
       " 2012,\n",
       " 2012,\n",
       " 2012,\n",
       " 2012,\n",
       " 2012,\n",
       " 2012,\n",
       " 2012,\n",
       " 2012,\n",
       " 2012,\n",
       " 2012,\n",
       " 2012,\n",
       " 2012,\n",
       " 2012,\n",
       " 2012,\n",
       " 2012,\n",
       " 2012,\n",
       " 2012,\n",
       " 2012,\n",
       " 2012,\n",
       " 2012,\n",
       " 2012,\n",
       " 2012,\n",
       " 2012,\n",
       " 2012,\n",
       " 2012,\n",
       " 2012,\n",
       " 2012,\n",
       " 2012,\n",
       " 2012,\n",
       " 2012,\n",
       " 2012,\n",
       " 2012,\n",
       " 2012,\n",
       " 2012,\n",
       " 2012,\n",
       " 2012,\n",
       " 2012,\n",
       " 2012,\n",
       " 2012,\n",
       " 2012,\n",
       " 2012,\n",
       " 2013,\n",
       " 2012,\n",
       " 2013,\n",
       " 2012,\n",
       " 2012,\n",
       " 2012,\n",
       " 2012,\n",
       " 2012,\n",
       " 2012,\n",
       " 2013,\n",
       " 2013,\n",
       " 2012,\n",
       " 2012,\n",
       " 2012,\n",
       " 2012,\n",
       " 2012,\n",
       " 2013,\n",
       " 2012,\n",
       " 2012,\n",
       " 2012,\n",
       " 2012,\n",
       " 2012,\n",
       " 2013,\n",
       " 2013,\n",
       " 2012,\n",
       " 2012,\n",
       " 2012,\n",
       " 2012,\n",
       " 2012,\n",
       " 2012,\n",
       " 2013,\n",
       " 2013,\n",
       " 2013,\n",
       " 2013,\n",
       " 2012,\n",
       " 2012,\n",
       " 2012,\n",
       " 2013,\n",
       " 2012,\n",
       " 2012,\n",
       " 2012,\n",
       " 2012,\n",
       " 2012,\n",
       " 2013,\n",
       " 2012,\n",
       " 2012,\n",
       " 2012,\n",
       " 2013,\n",
       " 2013,\n",
       " 2013,\n",
       " 2013,\n",
       " 2012,\n",
       " 2013,\n",
       " 2013,\n",
       " 2012,\n",
       " 2012,\n",
       " 2012,\n",
       " 2012,\n",
       " 2012,\n",
       " 2012,\n",
       " 2013,\n",
       " 2012,\n",
       " 2013,\n",
       " 2013,\n",
       " 2013,\n",
       " 2012,\n",
       " 2012,\n",
       " 2013,\n",
       " 2012,\n",
       " 2013,\n",
       " 2013,\n",
       " 2012,\n",
       " 2012,\n",
       " 2013,\n",
       " 2013,\n",
       " 2013,\n",
       " 2013,\n",
       " 2012,\n",
       " 2013,\n",
       " 2013,\n",
       " 2013,\n",
       " 2013,\n",
       " 2013,\n",
       " 2013,\n",
       " 2013,\n",
       " 2013,\n",
       " 2012,\n",
       " 2013,\n",
       " 2012,\n",
       " 2013,\n",
       " 2013,\n",
       " 2013,\n",
       " 2013,\n",
       " 2012,\n",
       " 2013,\n",
       " 2013,\n",
       " 2013,\n",
       " 2013,\n",
       " 2013,\n",
       " 2013,\n",
       " 2013,\n",
       " 2013,\n",
       " 2013,\n",
       " 2013,\n",
       " 2012,\n",
       " 2012,\n",
       " 2013,\n",
       " 2012,\n",
       " 2013,\n",
       " 2012,\n",
       " 2013,\n",
       " 2013,\n",
       " 2013,\n",
       " 2013,\n",
       " 2013,\n",
       " 2013,\n",
       " 2013,\n",
       " 2013,\n",
       " 2010,\n",
       " 2013,\n",
       " 2013,\n",
       " 2012,\n",
       " 2013,\n",
       " 2013,\n",
       " 2013,\n",
       " 2013,\n",
       " 2013,\n",
       " 2013,\n",
       " 2013,\n",
       " 2013,\n",
       " 2013,\n",
       " 2013,\n",
       " 2013,\n",
       " 2013,\n",
       " 2013,\n",
       " 2013,\n",
       " 2013,\n",
       " 2013,\n",
       " 2013,\n",
       " 2013,\n",
       " 2013,\n",
       " 2013,\n",
       " 2010,\n",
       " 2013,\n",
       " 2013,\n",
       " 2014,\n",
       " 2013,\n",
       " 2013,\n",
       " 2013,\n",
       " 2013,\n",
       " 2013,\n",
       " 2013,\n",
       " 2013,\n",
       " 2013,\n",
       " 2013,\n",
       " 2013,\n",
       " 2013,\n",
       " 2013,\n",
       " 2013,\n",
       " 2013,\n",
       " 2013,\n",
       " 2013,\n",
       " 2013,\n",
       " 2013,\n",
       " 2013,\n",
       " 2013,\n",
       " 2013,\n",
       " 2013,\n",
       " 2013,\n",
       " 2013,\n",
       " 2013,\n",
       " 2013,\n",
       " 2013,\n",
       " 2014,\n",
       " 2014,\n",
       " 2013,\n",
       " 2013,\n",
       " 2013,\n",
       " 2013,\n",
       " 2014,\n",
       " 2013,\n",
       " 2013,\n",
       " 0,\n",
       " 2013,\n",
       " 2014,\n",
       " 2013,\n",
       " 2014,\n",
       " 2014,\n",
       " 2013,\n",
       " 2014,\n",
       " 0,\n",
       " 2013,\n",
       " 2013,\n",
       " 2013,\n",
       " 2013,\n",
       " 2013,\n",
       " 0,\n",
       " 0,\n",
       " 2013,\n",
       " 2013,\n",
       " 0,\n",
       " 2014,\n",
       " 2014,\n",
       " 2013,\n",
       " 2014,\n",
       " 2013,\n",
       " 2013,\n",
       " 2013,\n",
       " 2014,\n",
       " 2013,\n",
       " 2013,\n",
       " 2013,\n",
       " 2013,\n",
       " 2006,\n",
       " 2014,\n",
       " 2013,\n",
       " 0,\n",
       " 2014,\n",
       " 0,\n",
       " 2013,\n",
       " 2014,\n",
       " 0,\n",
       " 2014,\n",
       " 2014,\n",
       " 0,\n",
       " 2013,\n",
       " 0,\n",
       " 0,\n",
       " 2013,\n",
       " 2014,\n",
       " 2014,\n",
       " 2013,\n",
       " 2013,\n",
       " 2013,\n",
       " 2014,\n",
       " 2014,\n",
       " 2014,\n",
       " 2013]"
      ]
     },
     "execution_count": 44,
     "metadata": {},
     "output_type": "execute_result"
    }
   ],
   "source": [
    "# run `cease_date` through extract_year() function\n",
    "extract_year(dete_resignation['cease_date'])"
   ]
  },
  {
   "cell_type": "code",
   "execution_count": 45,
   "metadata": {},
   "outputs": [
    {
     "name": "stderr",
     "output_type": "stream",
     "text": [
      "/var/folders/m7/q9jqt2zs3b1b4t81n_tpn1lh0000gn/T/ipykernel_74363/2989179497.py:1: SettingWithCopyWarning: \n",
      "A value is trying to be set on a copy of a slice from a DataFrame.\n",
      "Try using .loc[row_indexer,col_indexer] = value instead\n",
      "\n",
      "See the caveats in the documentation: https://pandas.pydata.org/pandas-docs/stable/user_guide/indexing.html#returning-a-view-versus-a-copy\n",
      "  dete_resignation['cease_date'] = extract_year(dete_resignation['cease_date'])\n"
     ]
    }
   ],
   "source": [
    "dete_resignation['cease_date'] = extract_year(dete_resignation['cease_date'])"
   ]
  },
  {
   "cell_type": "code",
   "execution_count": 46,
   "metadata": {},
   "outputs": [
    {
     "data": {
      "text/plain": [
       "0        11\n",
       "2006      1\n",
       "2010      2\n",
       "2012    129\n",
       "2013    146\n",
       "2014     22\n",
       "Name: cease_date, dtype: int64"
      ]
     },
     "execution_count": 46,
     "metadata": {},
     "output_type": "execute_result"
    }
   ],
   "source": [
    "# after `cease_date`\n",
    "dete_resignation['cease_date'].value_counts().sort_index(ascending=True)"
   ]
  },
  {
   "cell_type": "code",
   "execution_count": 47,
   "metadata": {},
   "outputs": [
    {
     "data": {
      "text/plain": [
       "1963           1\n",
       "1971           1\n",
       "1972           1\n",
       "1973           1\n",
       "1974           2\n",
       "1975           1\n",
       "1976           2\n",
       "1977           1\n",
       "1980           5\n",
       "1982           1\n",
       "1983           2\n",
       "1984           1\n",
       "1985           3\n",
       "1986           3\n",
       "1987           1\n",
       "1988           4\n",
       "1989           4\n",
       "1990           5\n",
       "1991           4\n",
       "1992           6\n",
       "1993           5\n",
       "1994           6\n",
       "1995           4\n",
       "1996           6\n",
       "1997           5\n",
       "1998           6\n",
       "1999           8\n",
       "2000           9\n",
       "2001           3\n",
       "2002           6\n",
       "2003           6\n",
       "2004          14\n",
       "2005          15\n",
       "2006          13\n",
       "2007          21\n",
       "2008          22\n",
       "2009          13\n",
       "2010          17\n",
       "2011          24\n",
       "2012          21\n",
       "2013          10\n",
       "Not Stated    28\n",
       "Name: dete_start_date, dtype: int64"
      ]
     },
     "execution_count": 47,
     "metadata": {},
     "output_type": "execute_result"
    }
   ],
   "source": [
    "# before `dete_start_date`\n",
    "dete_resignation['dete_start_date'].value_counts().sort_index(ascending=True)"
   ]
  },
  {
   "cell_type": "code",
   "execution_count": 48,
   "metadata": {},
   "outputs": [
    {
     "data": {
      "text/plain": [
       "[2005,\n",
       " 1994,\n",
       " 2009,\n",
       " 1997,\n",
       " 2009,\n",
       " 1998,\n",
       " 2007,\n",
       " 0,\n",
       " 1982,\n",
       " 1980,\n",
       " 1997,\n",
       " 1973,\n",
       " 1995,\n",
       " 2005,\n",
       " 2003,\n",
       " 2006,\n",
       " 2011,\n",
       " 0,\n",
       " 1977,\n",
       " 1974,\n",
       " 2011,\n",
       " 1976,\n",
       " 2009,\n",
       " 2009,\n",
       " 1993,\n",
       " 2008,\n",
       " 2003,\n",
       " 2011,\n",
       " 2006,\n",
       " 2011,\n",
       " 2007,\n",
       " 1986,\n",
       " 2002,\n",
       " 2011,\n",
       " 2006,\n",
       " 2002,\n",
       " 2004,\n",
       " 0,\n",
       " 2008,\n",
       " 2004,\n",
       " 2007,\n",
       " 1997,\n",
       " 1976,\n",
       " 2010,\n",
       " 2012,\n",
       " 1980,\n",
       " 2012,\n",
       " 2007,\n",
       " 1994,\n",
       " 2004,\n",
       " 0,\n",
       " 2007,\n",
       " 2003,\n",
       " 2011,\n",
       " 2003,\n",
       " 2005,\n",
       " 2012,\n",
       " 1998,\n",
       " 2005,\n",
       " 2006,\n",
       " 1995,\n",
       " 1989,\n",
       " 0,\n",
       " 2005,\n",
       " 2008,\n",
       " 2006,\n",
       " 2007,\n",
       " 1986,\n",
       " 1999,\n",
       " 1996,\n",
       " 2009,\n",
       " 1994,\n",
       " 2009,\n",
       " 2007,\n",
       " 2011,\n",
       " 2006,\n",
       " 2000,\n",
       " 2008,\n",
       " 2005,\n",
       " 2012,\n",
       " 2007,\n",
       " 2008,\n",
       " 2011,\n",
       " 2009,\n",
       " 2011,\n",
       " 2011,\n",
       " 2011,\n",
       " 2010,\n",
       " 1991,\n",
       " 2011,\n",
       " 1992,\n",
       " 2007,\n",
       " 2007,\n",
       " 2012,\n",
       " 2012,\n",
       " 0,\n",
       " 0,\n",
       " 0,\n",
       " 1980,\n",
       " 2006,\n",
       " 1996,\n",
       " 0,\n",
       " 2005,\n",
       " 2009,\n",
       " 2001,\n",
       " 1999,\n",
       " 2001,\n",
       " 1989,\n",
       " 2012,\n",
       " 2011,\n",
       " 2007,\n",
       " 2011,\n",
       " 2000,\n",
       " 2008,\n",
       " 2011,\n",
       " 2012,\n",
       " 2005,\n",
       " 0,\n",
       " 1988,\n",
       " 2008,\n",
       " 1980,\n",
       " 2007,\n",
       " 1992,\n",
       " 2003,\n",
       " 0,\n",
       " 2010,\n",
       " 2012,\n",
       " 2012,\n",
       " 1992,\n",
       " 1999,\n",
       " 2007,\n",
       " 1990,\n",
       " 0,\n",
       " 2008,\n",
       " 1994,\n",
       " 2007,\n",
       " 1985,\n",
       " 2000,\n",
       " 2007,\n",
       " 1993,\n",
       " 0,\n",
       " 0,\n",
       " 1991,\n",
       " 0,\n",
       " 2006,\n",
       " 0,\n",
       " 2008,\n",
       " 2008,\n",
       " 1997,\n",
       " 2011,\n",
       " 1963,\n",
       " 2008,\n",
       " 2012,\n",
       " 2008,\n",
       " 2008,\n",
       " 1993,\n",
       " 2006,\n",
       " 2002,\n",
       " 0,\n",
       " 1992,\n",
       " 2010,\n",
       " 0,\n",
       " 2009,\n",
       " 1991,\n",
       " 2013,\n",
       " 2013,\n",
       " 2011,\n",
       " 2010,\n",
       " 2002,\n",
       " 2000,\n",
       " 1990,\n",
       " 0,\n",
       " 1997,\n",
       " 2008,\n",
       " 2004,\n",
       " 2000,\n",
       " 2013,\n",
       " 1990,\n",
       " 2005,\n",
       " 1993,\n",
       " 0,\n",
       " 1974,\n",
       " 1988,\n",
       " 2012,\n",
       " 2009,\n",
       " 2013,\n",
       " 2002,\n",
       " 1972,\n",
       " 2008,\n",
       " 1989,\n",
       " 2009,\n",
       " 2007,\n",
       " 0,\n",
       " 1999,\n",
       " 2008,\n",
       " 2007,\n",
       " 0,\n",
       " 2007,\n",
       " 1996,\n",
       " 2011,\n",
       " 2010,\n",
       " 2000,\n",
       " 2011,\n",
       " 2005,\n",
       " 2011,\n",
       " 2012,\n",
       " 1990,\n",
       " 2000,\n",
       " 2010,\n",
       " 1998,\n",
       " 2004,\n",
       " 2004,\n",
       " 1994,\n",
       " 2008,\n",
       " 2012,\n",
       " 1999,\n",
       " 2011,\n",
       " 1985,\n",
       " 2005,\n",
       " 2001,\n",
       " 2005,\n",
       " 2010,\n",
       " 1996,\n",
       " 2004,\n",
       " 2004,\n",
       " 1989,\n",
       " 1993,\n",
       " 2010,\n",
       " 1996,\n",
       " 2003,\n",
       " 1983,\n",
       " 2004,\n",
       " 2011,\n",
       " 2010,\n",
       " 2006,\n",
       " 2013,\n",
       " 2010,\n",
       " 2010,\n",
       " 1992,\n",
       " 1995,\n",
       " 1996,\n",
       " 2010,\n",
       " 1986,\n",
       " 1971,\n",
       " 1998,\n",
       " 0,\n",
       " 1999,\n",
       " 2012,\n",
       " 2011,\n",
       " 2013,\n",
       " 2013,\n",
       " 2009,\n",
       " 2010,\n",
       " 2012,\n",
       " 1988,\n",
       " 2011,\n",
       " 2004,\n",
       " 1985,\n",
       " 2013,\n",
       " 2004,\n",
       " 1998,\n",
       " 2012,\n",
       " 2010,\n",
       " 2012,\n",
       " 2008,\n",
       " 2010,\n",
       " 2007,\n",
       " 1988,\n",
       " 2013,\n",
       " 2006,\n",
       " 0,\n",
       " 0,\n",
       " 2000,\n",
       " 1984,\n",
       " 1975,\n",
       " 1980,\n",
       " 1999,\n",
       " 1992,\n",
       " 2006,\n",
       " 1999,\n",
       " 1991,\n",
       " 2008,\n",
       " 2005,\n",
       " 1998,\n",
       " 2004,\n",
       " 2012,\n",
       " 2006,\n",
       " 2007,\n",
       " 2008,\n",
       " 1987,\n",
       " 2002,\n",
       " 2005,\n",
       " 2013,\n",
       " 1994,\n",
       " 1990,\n",
       " 1983,\n",
       " 2008,\n",
       " 2007,\n",
       " 0,\n",
       " 2000,\n",
       " 1995,\n",
       " 0,\n",
       " 2004,\n",
       " 2008,\n",
       " 2005,\n",
       " 2004,\n",
       " 2010,\n",
       " 2012,\n",
       " 2012,\n",
       " 2009,\n",
       " 0]"
      ]
     },
     "execution_count": 48,
     "metadata": {},
     "output_type": "execute_result"
    }
   ],
   "source": [
    "# run `dete_start_date` through extract_year() function\n",
    "extract_year(dete_resignation['dete_start_date'])"
   ]
  },
  {
   "cell_type": "code",
   "execution_count": 49,
   "metadata": {},
   "outputs": [
    {
     "name": "stderr",
     "output_type": "stream",
     "text": [
      "/var/folders/m7/q9jqt2zs3b1b4t81n_tpn1lh0000gn/T/ipykernel_74363/2585752466.py:1: SettingWithCopyWarning: \n",
      "A value is trying to be set on a copy of a slice from a DataFrame.\n",
      "Try using .loc[row_indexer,col_indexer] = value instead\n",
      "\n",
      "See the caveats in the documentation: https://pandas.pydata.org/pandas-docs/stable/user_guide/indexing.html#returning-a-view-versus-a-copy\n",
      "  dete_resignation['dete_start_date'] = extract_year(dete_resignation['dete_start_date'])\n"
     ]
    }
   ],
   "source": [
    "dete_resignation['dete_start_date'] = extract_year(dete_resignation['dete_start_date'])"
   ]
  },
  {
   "cell_type": "code",
   "execution_count": 50,
   "metadata": {},
   "outputs": [
    {
     "data": {
      "text/plain": [
       "0       28\n",
       "1963     1\n",
       "1971     1\n",
       "1972     1\n",
       "1973     1\n",
       "1974     2\n",
       "1975     1\n",
       "1976     2\n",
       "1977     1\n",
       "1980     5\n",
       "1982     1\n",
       "1983     2\n",
       "1984     1\n",
       "1985     3\n",
       "1986     3\n",
       "1987     1\n",
       "1988     4\n",
       "1989     4\n",
       "1990     5\n",
       "1991     4\n",
       "1992     6\n",
       "1993     5\n",
       "1994     6\n",
       "1995     4\n",
       "1996     6\n",
       "1997     5\n",
       "1998     6\n",
       "1999     8\n",
       "2000     9\n",
       "2001     3\n",
       "2002     6\n",
       "2003     6\n",
       "2004    14\n",
       "2005    15\n",
       "2006    13\n",
       "2007    21\n",
       "2008    22\n",
       "2009    13\n",
       "2010    17\n",
       "2011    24\n",
       "2012    21\n",
       "2013    10\n",
       "Name: dete_start_date, dtype: int64"
      ]
     },
     "execution_count": 50,
     "metadata": {},
     "output_type": "execute_result"
    }
   ],
   "source": [
    "# after `dete_start_date`\n",
    "dete_resignation['dete_start_date'].value_counts().sort_index(ascending=True)"
   ]
  },
  {
   "cell_type": "markdown",
   "metadata": {},
   "source": [
    "### Tafe Resignation Years"
   ]
  },
  {
   "cell_type": "code",
   "execution_count": 51,
   "metadata": {},
   "outputs": [
    {
     "data": {
      "text/plain": [
       "2009.0      2\n",
       "2010.0     68\n",
       "2011.0    116\n",
       "2012.0     94\n",
       "2013.0     55\n",
       "Name: cease_date, dtype: int64"
      ]
     },
     "execution_count": 51,
     "metadata": {},
     "output_type": "execute_result"
    }
   ],
   "source": [
    "# `cease_date`\n",
    "tafe_resignation['cease_date'].value_counts().sort_index(ascending=True)"
   ]
  },
  {
   "cell_type": "markdown",
   "metadata": {},
   "source": [
    "### Observations:\n",
    "- Two columns needed the date format cleaned up. \n",
    "- Others are in int and are only years. \n",
    "- None of the years are before 1940 or after 2014. \n",
    "- Limited number of years that span the two data sets. May need to limit query to 2012-2014."
   ]
  },
  {
   "cell_type": "markdown",
   "metadata": {},
   "source": [
    "## 6. Create a New Column"
   ]
  },
  {
   "cell_type": "code",
   "execution_count": 52,
   "metadata": {},
   "outputs": [
    {
     "name": "stderr",
     "output_type": "stream",
     "text": [
      "/var/folders/m7/q9jqt2zs3b1b4t81n_tpn1lh0000gn/T/ipykernel_74363/1908586038.py:1: SettingWithCopyWarning: \n",
      "A value is trying to be set on a copy of a slice from a DataFrame.\n",
      "Try using .loc[row_indexer,col_indexer] = value instead\n",
      "\n",
      "See the caveats in the documentation: https://pandas.pydata.org/pandas-docs/stable/user_guide/indexing.html#returning-a-view-versus-a-copy\n",
      "  dete_resignation['institute_service'] = dete_resignation['cease_date'] - dete_resignation['dete_start_date']\n"
     ]
    }
   ],
   "source": [
    "dete_resignation['institute_service'] = dete_resignation['cease_date'] - dete_resignation['dete_start_date']\n",
    "\n",
    "# dete_resignation['dete_start_date'].info()"
   ]
  },
  {
   "cell_type": "code",
   "execution_count": 53,
   "metadata": {},
   "outputs": [
    {
     "data": {
      "text/plain": [
       "3         7\n",
       "5        18\n",
       "8         3\n",
       "9        15\n",
       "11        3\n",
       "       ... \n",
       "808       3\n",
       "815       2\n",
       "816       2\n",
       "819       5\n",
       "821    2013\n",
       "Name: institute_service, Length: 311, dtype: int64"
      ]
     },
     "execution_count": 53,
     "metadata": {},
     "output_type": "execute_result"
    }
   ],
   "source": [
    "dete_resignation['institute_service']"
   ]
  },
  {
   "cell_type": "markdown",
   "metadata": {},
   "source": [
    "### To calculate the length of service (employment), substract start year from cease year. "
   ]
  },
  {
   "cell_type": "markdown",
   "metadata": {},
   "source": [
    "# 7. Identify Dissatisfied Employees"
   ]
  },
  {
   "cell_type": "code",
   "execution_count": null,
   "metadata": {},
   "outputs": [],
   "source": []
  }
 ],
 "metadata": {
  "colab": {
   "collapsed_sections": [
    "1hydIRao9Px_",
    "Zci9TWGf3Df-",
    "avt0gp6h3DgA",
    "0IUprXSE3DgB",
    "12e2VF9L3aYR",
    "PW2knrscUgLp",
    "_55PUa4MSAm4"
   ],
   "provenance": []
  },
  "kernelspec": {
   "display_name": "Python 3 (ipykernel)",
   "language": "python",
   "name": "python3"
  },
  "language_info": {
   "codemirror_mode": {
    "name": "ipython",
    "version": 3
   },
   "file_extension": ".py",
   "mimetype": "text/x-python",
   "name": "python",
   "nbconvert_exporter": "python",
   "pygments_lexer": "ipython3",
   "version": "3.10.9"
  }
 },
 "nbformat": 4,
 "nbformat_minor": 1
}
